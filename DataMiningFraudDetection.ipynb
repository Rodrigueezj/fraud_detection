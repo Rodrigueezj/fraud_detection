{
  "nbformat": 4,
  "nbformat_minor": 0,
  "metadata": {
    "colab": {
      "provenance": [],
      "collapsed_sections": [
        "TYJUfnIJYbww",
        "g0PitL-sBQ8q",
        "hP7sJnHKBVl9",
        "AL3DIDPfuUvN",
        "saJrZAEYQtOw"
      ]
    },
    "kernelspec": {
      "name": "python3",
      "display_name": "Python 3"
    },
    "language_info": {
      "name": "python"
    }
  },
  "cells": [
    {
      "cell_type": "markdown",
      "source": [
        "# Configuración inicial"
      ],
      "metadata": {
        "id": "0ghpZNbzlj8l"
      }
    },
    {
      "cell_type": "code",
      "source": [
        "# Install dependencies as needed:\n",
        "!pip install kagglehub[pandas-datasets]"
      ],
      "metadata": {
        "colab": {
          "base_uri": "https://localhost:8080/"
        },
        "id": "Gsec48tJYe-C",
        "outputId": "879d58d0-28e3-42df-e8c6-a3ac1ecce9de"
      },
      "execution_count": 1,
      "outputs": [
        {
          "output_type": "stream",
          "name": "stdout",
          "text": [
            "Requirement already satisfied: kagglehub[pandas-datasets] in /usr/local/lib/python3.11/dist-packages (0.3.12)\n",
            "Requirement already satisfied: packaging in /usr/local/lib/python3.11/dist-packages (from kagglehub[pandas-datasets]) (24.2)\n",
            "Requirement already satisfied: pyyaml in /usr/local/lib/python3.11/dist-packages (from kagglehub[pandas-datasets]) (6.0.2)\n",
            "Requirement already satisfied: requests in /usr/local/lib/python3.11/dist-packages (from kagglehub[pandas-datasets]) (2.32.3)\n",
            "Requirement already satisfied: tqdm in /usr/local/lib/python3.11/dist-packages (from kagglehub[pandas-datasets]) (4.67.1)\n",
            "Requirement already satisfied: pandas in /usr/local/lib/python3.11/dist-packages (from kagglehub[pandas-datasets]) (2.2.2)\n",
            "Requirement already satisfied: numpy>=1.23.2 in /usr/local/lib/python3.11/dist-packages (from pandas->kagglehub[pandas-datasets]) (2.0.2)\n",
            "Requirement already satisfied: python-dateutil>=2.8.2 in /usr/local/lib/python3.11/dist-packages (from pandas->kagglehub[pandas-datasets]) (2.9.0.post0)\n",
            "Requirement already satisfied: pytz>=2020.1 in /usr/local/lib/python3.11/dist-packages (from pandas->kagglehub[pandas-datasets]) (2025.2)\n",
            "Requirement already satisfied: tzdata>=2022.7 in /usr/local/lib/python3.11/dist-packages (from pandas->kagglehub[pandas-datasets]) (2025.2)\n",
            "Requirement already satisfied: charset-normalizer<4,>=2 in /usr/local/lib/python3.11/dist-packages (from requests->kagglehub[pandas-datasets]) (3.4.2)\n",
            "Requirement already satisfied: idna<4,>=2.5 in /usr/local/lib/python3.11/dist-packages (from requests->kagglehub[pandas-datasets]) (3.10)\n",
            "Requirement already satisfied: urllib3<3,>=1.21.1 in /usr/local/lib/python3.11/dist-packages (from requests->kagglehub[pandas-datasets]) (2.4.0)\n",
            "Requirement already satisfied: certifi>=2017.4.17 in /usr/local/lib/python3.11/dist-packages (from requests->kagglehub[pandas-datasets]) (2025.4.26)\n",
            "Requirement already satisfied: six>=1.5 in /usr/local/lib/python3.11/dist-packages (from python-dateutil>=2.8.2->pandas->kagglehub[pandas-datasets]) (1.17.0)\n"
          ]
        }
      ]
    },
    {
      "cell_type": "code",
      "source": [
        "import kagglehub\n",
        "from kagglehub import KaggleDatasetAdapter\n",
        "\n",
        "import pandas as pd\n",
        "import numpy as np\n",
        "import matplotlib.pyplot as plt\n",
        "import seaborn as sns\n",
        "from sklearn.preprocessing import StandardScaler\n"
      ],
      "metadata": {
        "id": "vYwEp33jgDO0"
      },
      "execution_count": 2,
      "outputs": []
    },
    {
      "cell_type": "markdown",
      "source": [
        "# Carga del conjunto de datos"
      ],
      "metadata": {
        "id": "Cb2v3Y7-UIbo"
      }
    },
    {
      "cell_type": "code",
      "execution_count": 3,
      "metadata": {
        "colab": {
          "base_uri": "https://localhost:8080/"
        },
        "id": "bGqlNND-mis4",
        "outputId": "bb441516-2712-43a7-b837-29c4f94511ed"
      },
      "outputs": [
        {
          "output_type": "stream",
          "name": "stderr",
          "text": [
            "<ipython-input-3-7f819795a832>:4: DeprecationWarning: load_dataset is deprecated and will be removed in a future version.\n",
            "  df = kagglehub.load_dataset(\n"
          ]
        }
      ],
      "source": [
        "file_path = \"Fraudulent_E-Commerce_Transaction_Data.csv\"\n",
        "\n",
        "# Load the latest version of the dataset\n",
        "df = kagglehub.load_dataset(\n",
        "  KaggleDatasetAdapter.PANDAS,\n",
        "  \"shriyashjagtap/fraudulent-e-commerce-transactions\",\n",
        "  file_path\n",
        ")"
      ]
    },
    {
      "cell_type": "markdown",
      "source": [
        "# Análisis exploratorio inicial"
      ],
      "metadata": {
        "id": "aMoJVskj2oHN"
      }
    },
    {
      "cell_type": "code",
      "source": [
        "print(\"Shape del DataFrame:\", df.shape)\n",
        "print(\"\\nResumen de tipos de dato y nulls:\")\n",
        "df.info()"
      ],
      "metadata": {
        "colab": {
          "base_uri": "https://localhost:8080/"
        },
        "id": "_wtbcgiFluVc",
        "outputId": "6c667f5a-4997-473c-cfa6-27ec05d0fa37"
      },
      "execution_count": 4,
      "outputs": [
        {
          "output_type": "stream",
          "name": "stdout",
          "text": [
            "Shape del DataFrame: (1472952, 16)\n",
            "\n",
            "Resumen de tipos de dato y nulls:\n",
            "<class 'pandas.core.frame.DataFrame'>\n",
            "RangeIndex: 1472952 entries, 0 to 1472951\n",
            "Data columns (total 16 columns):\n",
            " #   Column              Non-Null Count    Dtype  \n",
            "---  ------              --------------    -----  \n",
            " 0   Transaction ID      1472952 non-null  object \n",
            " 1   Customer ID         1472952 non-null  object \n",
            " 2   Transaction Amount  1472952 non-null  float64\n",
            " 3   Transaction Date    1472952 non-null  object \n",
            " 4   Payment Method      1472952 non-null  object \n",
            " 5   Product Category    1472952 non-null  object \n",
            " 6   Quantity            1472952 non-null  int64  \n",
            " 7   Customer Age        1472952 non-null  int64  \n",
            " 8   Customer Location   1472952 non-null  object \n",
            " 9   Device Used         1472952 non-null  object \n",
            " 10  IP Address          1472952 non-null  object \n",
            " 11  Shipping Address    1472952 non-null  object \n",
            " 12  Billing Address     1472952 non-null  object \n",
            " 13  Is Fraudulent       1472952 non-null  int64  \n",
            " 14  Account Age Days    1472952 non-null  int64  \n",
            " 15  Transaction Hour    1472952 non-null  int64  \n",
            "dtypes: float64(1), int64(5), object(10)\n",
            "memory usage: 179.8+ MB\n"
          ]
        }
      ]
    },
    {
      "cell_type": "markdown",
      "source": [
        "- Podemos ver que Transaction Date no es Datetime\n",
        "- Is Fraudulent también se podría transformar en una variable binaria"
      ],
      "metadata": {
        "id": "7x_st3R_pEUz"
      }
    },
    {
      "cell_type": "code",
      "source": [
        "# Primeras y últimas filas\n",
        "display(df.head(5))\n",
        "display(df.tail(5))"
      ],
      "metadata": {
        "colab": {
          "base_uri": "https://localhost:8080/",
          "height": 1000
        },
        "id": "lhMt3QqET1Os",
        "outputId": "2f3349a2-f009-4610-9b33-2260a4b98121"
      },
      "execution_count": 5,
      "outputs": [
        {
          "output_type": "display_data",
          "data": {
            "text/plain": [
              "                         Transaction ID                           Customer ID  \\\n",
              "0  15d2e414-8735-46fc-9e02-80b472b2580f  d1b87f62-51b2-493b-ad6a-77e0fe13e785   \n",
              "1  0bfee1a0-6d5e-40da-a446-d04e73b1b177  37de64d5-e901-4a56-9ea0-af0c24c069cf   \n",
              "2  e588eef4-b754-468e-9d90-d0e0abfc1af0  1bac88d6-4b22-409a-a06b-425119c57225   \n",
              "3  4de46e52-60c3-49d9-be39-636681009789  2357c76e-9253-4ceb-b44e-ef4b71cb7d4d   \n",
              "4  074a76de-fe2d-443e-a00c-f044cdb68e21  45071bc5-9588-43ea-8093-023caec8ea1c   \n",
              "\n",
              "   Transaction Amount     Transaction Date Payment Method Product Category  \\\n",
              "0               58.09  2024-02-20 05:58:41  bank transfer      electronics   \n",
              "1              389.96  2024-02-25 08:09:45     debit card      electronics   \n",
              "2              134.19  2024-03-18 03:42:55         PayPal    home & garden   \n",
              "3              226.17  2024-03-16 20:41:31  bank transfer         clothing   \n",
              "4              121.53  2024-01-15 05:08:17  bank transfer         clothing   \n",
              "\n",
              "   Quantity  Customer Age Customer Location Device Used       IP Address  \\\n",
              "0         1            17     Amandaborough      tablet   212.195.49.198   \n",
              "1         2            40      East Timothy     desktop  208.106.249.121   \n",
              "2         2            22        Davismouth      tablet     76.63.88.212   \n",
              "3         5            31          Lynnberg     desktop   207.208.171.73   \n",
              "4         2            51      South Nicole      tablet   190.172.14.169   \n",
              "\n",
              "                                    Shipping Address  \\\n",
              "0                   Unit 8934 Box 0058\\nDPO AA 05437   \n",
              "1            634 May Keys\\nPort Cherylview, NV 75063   \n",
              "2    16282 Dana Falls Suite 790\\nRothhaven, IL 15564   \n",
              "3     828 Strong Loaf Apt. 646\\nNew Joshua, UT 84798   \n",
              "4  29799 Jason Hills Apt. 439\\nWest Richardtown, ...   \n",
              "\n",
              "                                     Billing Address  Is Fraudulent  \\\n",
              "0                   Unit 8934 Box 0058\\nDPO AA 05437              0   \n",
              "1            634 May Keys\\nPort Cherylview, NV 75063              0   \n",
              "2    16282 Dana Falls Suite 790\\nRothhaven, IL 15564              0   \n",
              "3     828 Strong Loaf Apt. 646\\nNew Joshua, UT 84798              0   \n",
              "4  29799 Jason Hills Apt. 439\\nWest Richardtown, ...              0   \n",
              "\n",
              "   Account Age Days  Transaction Hour  \n",
              "0                30                 5  \n",
              "1                72                 8  \n",
              "2                63                 3  \n",
              "3               124                20  \n",
              "4               158                 5  "
            ],
            "text/html": [
              "\n",
              "  <div id=\"df-8237ff42-24ec-4410-b398-2bcaa2ee242d\" class=\"colab-df-container\">\n",
              "    <div>\n",
              "<style scoped>\n",
              "    .dataframe tbody tr th:only-of-type {\n",
              "        vertical-align: middle;\n",
              "    }\n",
              "\n",
              "    .dataframe tbody tr th {\n",
              "        vertical-align: top;\n",
              "    }\n",
              "\n",
              "    .dataframe thead th {\n",
              "        text-align: right;\n",
              "    }\n",
              "</style>\n",
              "<table border=\"1\" class=\"dataframe\">\n",
              "  <thead>\n",
              "    <tr style=\"text-align: right;\">\n",
              "      <th></th>\n",
              "      <th>Transaction ID</th>\n",
              "      <th>Customer ID</th>\n",
              "      <th>Transaction Amount</th>\n",
              "      <th>Transaction Date</th>\n",
              "      <th>Payment Method</th>\n",
              "      <th>Product Category</th>\n",
              "      <th>Quantity</th>\n",
              "      <th>Customer Age</th>\n",
              "      <th>Customer Location</th>\n",
              "      <th>Device Used</th>\n",
              "      <th>IP Address</th>\n",
              "      <th>Shipping Address</th>\n",
              "      <th>Billing Address</th>\n",
              "      <th>Is Fraudulent</th>\n",
              "      <th>Account Age Days</th>\n",
              "      <th>Transaction Hour</th>\n",
              "    </tr>\n",
              "  </thead>\n",
              "  <tbody>\n",
              "    <tr>\n",
              "      <th>0</th>\n",
              "      <td>15d2e414-8735-46fc-9e02-80b472b2580f</td>\n",
              "      <td>d1b87f62-51b2-493b-ad6a-77e0fe13e785</td>\n",
              "      <td>58.09</td>\n",
              "      <td>2024-02-20 05:58:41</td>\n",
              "      <td>bank transfer</td>\n",
              "      <td>electronics</td>\n",
              "      <td>1</td>\n",
              "      <td>17</td>\n",
              "      <td>Amandaborough</td>\n",
              "      <td>tablet</td>\n",
              "      <td>212.195.49.198</td>\n",
              "      <td>Unit 8934 Box 0058\\nDPO AA 05437</td>\n",
              "      <td>Unit 8934 Box 0058\\nDPO AA 05437</td>\n",
              "      <td>0</td>\n",
              "      <td>30</td>\n",
              "      <td>5</td>\n",
              "    </tr>\n",
              "    <tr>\n",
              "      <th>1</th>\n",
              "      <td>0bfee1a0-6d5e-40da-a446-d04e73b1b177</td>\n",
              "      <td>37de64d5-e901-4a56-9ea0-af0c24c069cf</td>\n",
              "      <td>389.96</td>\n",
              "      <td>2024-02-25 08:09:45</td>\n",
              "      <td>debit card</td>\n",
              "      <td>electronics</td>\n",
              "      <td>2</td>\n",
              "      <td>40</td>\n",
              "      <td>East Timothy</td>\n",
              "      <td>desktop</td>\n",
              "      <td>208.106.249.121</td>\n",
              "      <td>634 May Keys\\nPort Cherylview, NV 75063</td>\n",
              "      <td>634 May Keys\\nPort Cherylview, NV 75063</td>\n",
              "      <td>0</td>\n",
              "      <td>72</td>\n",
              "      <td>8</td>\n",
              "    </tr>\n",
              "    <tr>\n",
              "      <th>2</th>\n",
              "      <td>e588eef4-b754-468e-9d90-d0e0abfc1af0</td>\n",
              "      <td>1bac88d6-4b22-409a-a06b-425119c57225</td>\n",
              "      <td>134.19</td>\n",
              "      <td>2024-03-18 03:42:55</td>\n",
              "      <td>PayPal</td>\n",
              "      <td>home &amp; garden</td>\n",
              "      <td>2</td>\n",
              "      <td>22</td>\n",
              "      <td>Davismouth</td>\n",
              "      <td>tablet</td>\n",
              "      <td>76.63.88.212</td>\n",
              "      <td>16282 Dana Falls Suite 790\\nRothhaven, IL 15564</td>\n",
              "      <td>16282 Dana Falls Suite 790\\nRothhaven, IL 15564</td>\n",
              "      <td>0</td>\n",
              "      <td>63</td>\n",
              "      <td>3</td>\n",
              "    </tr>\n",
              "    <tr>\n",
              "      <th>3</th>\n",
              "      <td>4de46e52-60c3-49d9-be39-636681009789</td>\n",
              "      <td>2357c76e-9253-4ceb-b44e-ef4b71cb7d4d</td>\n",
              "      <td>226.17</td>\n",
              "      <td>2024-03-16 20:41:31</td>\n",
              "      <td>bank transfer</td>\n",
              "      <td>clothing</td>\n",
              "      <td>5</td>\n",
              "      <td>31</td>\n",
              "      <td>Lynnberg</td>\n",
              "      <td>desktop</td>\n",
              "      <td>207.208.171.73</td>\n",
              "      <td>828 Strong Loaf Apt. 646\\nNew Joshua, UT 84798</td>\n",
              "      <td>828 Strong Loaf Apt. 646\\nNew Joshua, UT 84798</td>\n",
              "      <td>0</td>\n",
              "      <td>124</td>\n",
              "      <td>20</td>\n",
              "    </tr>\n",
              "    <tr>\n",
              "      <th>4</th>\n",
              "      <td>074a76de-fe2d-443e-a00c-f044cdb68e21</td>\n",
              "      <td>45071bc5-9588-43ea-8093-023caec8ea1c</td>\n",
              "      <td>121.53</td>\n",
              "      <td>2024-01-15 05:08:17</td>\n",
              "      <td>bank transfer</td>\n",
              "      <td>clothing</td>\n",
              "      <td>2</td>\n",
              "      <td>51</td>\n",
              "      <td>South Nicole</td>\n",
              "      <td>tablet</td>\n",
              "      <td>190.172.14.169</td>\n",
              "      <td>29799 Jason Hills Apt. 439\\nWest Richardtown, ...</td>\n",
              "      <td>29799 Jason Hills Apt. 439\\nWest Richardtown, ...</td>\n",
              "      <td>0</td>\n",
              "      <td>158</td>\n",
              "      <td>5</td>\n",
              "    </tr>\n",
              "  </tbody>\n",
              "</table>\n",
              "</div>\n",
              "    <div class=\"colab-df-buttons\">\n",
              "\n",
              "  <div class=\"colab-df-container\">\n",
              "    <button class=\"colab-df-convert\" onclick=\"convertToInteractive('df-8237ff42-24ec-4410-b398-2bcaa2ee242d')\"\n",
              "            title=\"Convert this dataframe to an interactive table.\"\n",
              "            style=\"display:none;\">\n",
              "\n",
              "  <svg xmlns=\"http://www.w3.org/2000/svg\" height=\"24px\" viewBox=\"0 -960 960 960\">\n",
              "    <path d=\"M120-120v-720h720v720H120Zm60-500h600v-160H180v160Zm220 220h160v-160H400v160Zm0 220h160v-160H400v160ZM180-400h160v-160H180v160Zm440 0h160v-160H620v160ZM180-180h160v-160H180v160Zm440 0h160v-160H620v160Z\"/>\n",
              "  </svg>\n",
              "    </button>\n",
              "\n",
              "  <style>\n",
              "    .colab-df-container {\n",
              "      display:flex;\n",
              "      gap: 12px;\n",
              "    }\n",
              "\n",
              "    .colab-df-convert {\n",
              "      background-color: #E8F0FE;\n",
              "      border: none;\n",
              "      border-radius: 50%;\n",
              "      cursor: pointer;\n",
              "      display: none;\n",
              "      fill: #1967D2;\n",
              "      height: 32px;\n",
              "      padding: 0 0 0 0;\n",
              "      width: 32px;\n",
              "    }\n",
              "\n",
              "    .colab-df-convert:hover {\n",
              "      background-color: #E2EBFA;\n",
              "      box-shadow: 0px 1px 2px rgba(60, 64, 67, 0.3), 0px 1px 3px 1px rgba(60, 64, 67, 0.15);\n",
              "      fill: #174EA6;\n",
              "    }\n",
              "\n",
              "    .colab-df-buttons div {\n",
              "      margin-bottom: 4px;\n",
              "    }\n",
              "\n",
              "    [theme=dark] .colab-df-convert {\n",
              "      background-color: #3B4455;\n",
              "      fill: #D2E3FC;\n",
              "    }\n",
              "\n",
              "    [theme=dark] .colab-df-convert:hover {\n",
              "      background-color: #434B5C;\n",
              "      box-shadow: 0px 1px 3px 1px rgba(0, 0, 0, 0.15);\n",
              "      filter: drop-shadow(0px 1px 2px rgba(0, 0, 0, 0.3));\n",
              "      fill: #FFFFFF;\n",
              "    }\n",
              "  </style>\n",
              "\n",
              "    <script>\n",
              "      const buttonEl =\n",
              "        document.querySelector('#df-8237ff42-24ec-4410-b398-2bcaa2ee242d button.colab-df-convert');\n",
              "      buttonEl.style.display =\n",
              "        google.colab.kernel.accessAllowed ? 'block' : 'none';\n",
              "\n",
              "      async function convertToInteractive(key) {\n",
              "        const element = document.querySelector('#df-8237ff42-24ec-4410-b398-2bcaa2ee242d');\n",
              "        const dataTable =\n",
              "          await google.colab.kernel.invokeFunction('convertToInteractive',\n",
              "                                                    [key], {});\n",
              "        if (!dataTable) return;\n",
              "\n",
              "        const docLinkHtml = 'Like what you see? Visit the ' +\n",
              "          '<a target=\"_blank\" href=https://colab.research.google.com/notebooks/data_table.ipynb>data table notebook</a>'\n",
              "          + ' to learn more about interactive tables.';\n",
              "        element.innerHTML = '';\n",
              "        dataTable['output_type'] = 'display_data';\n",
              "        await google.colab.output.renderOutput(dataTable, element);\n",
              "        const docLink = document.createElement('div');\n",
              "        docLink.innerHTML = docLinkHtml;\n",
              "        element.appendChild(docLink);\n",
              "      }\n",
              "    </script>\n",
              "  </div>\n",
              "\n",
              "\n",
              "    <div id=\"df-5e595565-92c4-4ac7-9fd4-8944bcb45c6f\">\n",
              "      <button class=\"colab-df-quickchart\" onclick=\"quickchart('df-5e595565-92c4-4ac7-9fd4-8944bcb45c6f')\"\n",
              "                title=\"Suggest charts\"\n",
              "                style=\"display:none;\">\n",
              "\n",
              "<svg xmlns=\"http://www.w3.org/2000/svg\" height=\"24px\"viewBox=\"0 0 24 24\"\n",
              "     width=\"24px\">\n",
              "    <g>\n",
              "        <path d=\"M19 3H5c-1.1 0-2 .9-2 2v14c0 1.1.9 2 2 2h14c1.1 0 2-.9 2-2V5c0-1.1-.9-2-2-2zM9 17H7v-7h2v7zm4 0h-2V7h2v10zm4 0h-2v-4h2v4z\"/>\n",
              "    </g>\n",
              "</svg>\n",
              "      </button>\n",
              "\n",
              "<style>\n",
              "  .colab-df-quickchart {\n",
              "      --bg-color: #E8F0FE;\n",
              "      --fill-color: #1967D2;\n",
              "      --hover-bg-color: #E2EBFA;\n",
              "      --hover-fill-color: #174EA6;\n",
              "      --disabled-fill-color: #AAA;\n",
              "      --disabled-bg-color: #DDD;\n",
              "  }\n",
              "\n",
              "  [theme=dark] .colab-df-quickchart {\n",
              "      --bg-color: #3B4455;\n",
              "      --fill-color: #D2E3FC;\n",
              "      --hover-bg-color: #434B5C;\n",
              "      --hover-fill-color: #FFFFFF;\n",
              "      --disabled-bg-color: #3B4455;\n",
              "      --disabled-fill-color: #666;\n",
              "  }\n",
              "\n",
              "  .colab-df-quickchart {\n",
              "    background-color: var(--bg-color);\n",
              "    border: none;\n",
              "    border-radius: 50%;\n",
              "    cursor: pointer;\n",
              "    display: none;\n",
              "    fill: var(--fill-color);\n",
              "    height: 32px;\n",
              "    padding: 0;\n",
              "    width: 32px;\n",
              "  }\n",
              "\n",
              "  .colab-df-quickchart:hover {\n",
              "    background-color: var(--hover-bg-color);\n",
              "    box-shadow: 0 1px 2px rgba(60, 64, 67, 0.3), 0 1px 3px 1px rgba(60, 64, 67, 0.15);\n",
              "    fill: var(--button-hover-fill-color);\n",
              "  }\n",
              "\n",
              "  .colab-df-quickchart-complete:disabled,\n",
              "  .colab-df-quickchart-complete:disabled:hover {\n",
              "    background-color: var(--disabled-bg-color);\n",
              "    fill: var(--disabled-fill-color);\n",
              "    box-shadow: none;\n",
              "  }\n",
              "\n",
              "  .colab-df-spinner {\n",
              "    border: 2px solid var(--fill-color);\n",
              "    border-color: transparent;\n",
              "    border-bottom-color: var(--fill-color);\n",
              "    animation:\n",
              "      spin 1s steps(1) infinite;\n",
              "  }\n",
              "\n",
              "  @keyframes spin {\n",
              "    0% {\n",
              "      border-color: transparent;\n",
              "      border-bottom-color: var(--fill-color);\n",
              "      border-left-color: var(--fill-color);\n",
              "    }\n",
              "    20% {\n",
              "      border-color: transparent;\n",
              "      border-left-color: var(--fill-color);\n",
              "      border-top-color: var(--fill-color);\n",
              "    }\n",
              "    30% {\n",
              "      border-color: transparent;\n",
              "      border-left-color: var(--fill-color);\n",
              "      border-top-color: var(--fill-color);\n",
              "      border-right-color: var(--fill-color);\n",
              "    }\n",
              "    40% {\n",
              "      border-color: transparent;\n",
              "      border-right-color: var(--fill-color);\n",
              "      border-top-color: var(--fill-color);\n",
              "    }\n",
              "    60% {\n",
              "      border-color: transparent;\n",
              "      border-right-color: var(--fill-color);\n",
              "    }\n",
              "    80% {\n",
              "      border-color: transparent;\n",
              "      border-right-color: var(--fill-color);\n",
              "      border-bottom-color: var(--fill-color);\n",
              "    }\n",
              "    90% {\n",
              "      border-color: transparent;\n",
              "      border-bottom-color: var(--fill-color);\n",
              "    }\n",
              "  }\n",
              "</style>\n",
              "\n",
              "      <script>\n",
              "        async function quickchart(key) {\n",
              "          const quickchartButtonEl =\n",
              "            document.querySelector('#' + key + ' button');\n",
              "          quickchartButtonEl.disabled = true;  // To prevent multiple clicks.\n",
              "          quickchartButtonEl.classList.add('colab-df-spinner');\n",
              "          try {\n",
              "            const charts = await google.colab.kernel.invokeFunction(\n",
              "                'suggestCharts', [key], {});\n",
              "          } catch (error) {\n",
              "            console.error('Error during call to suggestCharts:', error);\n",
              "          }\n",
              "          quickchartButtonEl.classList.remove('colab-df-spinner');\n",
              "          quickchartButtonEl.classList.add('colab-df-quickchart-complete');\n",
              "        }\n",
              "        (() => {\n",
              "          let quickchartButtonEl =\n",
              "            document.querySelector('#df-5e595565-92c4-4ac7-9fd4-8944bcb45c6f button');\n",
              "          quickchartButtonEl.style.display =\n",
              "            google.colab.kernel.accessAllowed ? 'block' : 'none';\n",
              "        })();\n",
              "      </script>\n",
              "    </div>\n",
              "\n",
              "    </div>\n",
              "  </div>\n"
            ],
            "application/vnd.google.colaboratory.intrinsic+json": {
              "type": "dataframe",
              "summary": "{\n  \"name\": \"display(df\",\n  \"rows\": 5,\n  \"fields\": [\n    {\n      \"column\": \"Transaction ID\",\n      \"properties\": {\n        \"dtype\": \"string\",\n        \"num_unique_values\": 5,\n        \"samples\": [\n          \"0bfee1a0-6d5e-40da-a446-d04e73b1b177\",\n          \"074a76de-fe2d-443e-a00c-f044cdb68e21\",\n          \"e588eef4-b754-468e-9d90-d0e0abfc1af0\"\n        ],\n        \"semantic_type\": \"\",\n        \"description\": \"\"\n      }\n    },\n    {\n      \"column\": \"Customer ID\",\n      \"properties\": {\n        \"dtype\": \"string\",\n        \"num_unique_values\": 5,\n        \"samples\": [\n          \"37de64d5-e901-4a56-9ea0-af0c24c069cf\",\n          \"45071bc5-9588-43ea-8093-023caec8ea1c\",\n          \"1bac88d6-4b22-409a-a06b-425119c57225\"\n        ],\n        \"semantic_type\": \"\",\n        \"description\": \"\"\n      }\n    },\n    {\n      \"column\": \"Transaction Amount\",\n      \"properties\": {\n        \"dtype\": \"number\",\n        \"std\": 128.85547609628392,\n        \"min\": 58.09,\n        \"max\": 389.96,\n        \"num_unique_values\": 5,\n        \"samples\": [\n          389.96,\n          121.53,\n          134.19\n        ],\n        \"semantic_type\": \"\",\n        \"description\": \"\"\n      }\n    },\n    {\n      \"column\": \"Transaction Date\",\n      \"properties\": {\n        \"dtype\": \"object\",\n        \"num_unique_values\": 5,\n        \"samples\": [\n          \"2024-02-25 08:09:45\",\n          \"2024-01-15 05:08:17\",\n          \"2024-03-18 03:42:55\"\n        ],\n        \"semantic_type\": \"\",\n        \"description\": \"\"\n      }\n    },\n    {\n      \"column\": \"Payment Method\",\n      \"properties\": {\n        \"dtype\": \"string\",\n        \"num_unique_values\": 3,\n        \"samples\": [\n          \"bank transfer\",\n          \"debit card\",\n          \"PayPal\"\n        ],\n        \"semantic_type\": \"\",\n        \"description\": \"\"\n      }\n    },\n    {\n      \"column\": \"Product Category\",\n      \"properties\": {\n        \"dtype\": \"string\",\n        \"num_unique_values\": 3,\n        \"samples\": [\n          \"electronics\",\n          \"home & garden\",\n          \"clothing\"\n        ],\n        \"semantic_type\": \"\",\n        \"description\": \"\"\n      }\n    },\n    {\n      \"column\": \"Quantity\",\n      \"properties\": {\n        \"dtype\": \"number\",\n        \"std\": 1,\n        \"min\": 1,\n        \"max\": 5,\n        \"num_unique_values\": 3,\n        \"samples\": [\n          1,\n          2,\n          5\n        ],\n        \"semantic_type\": \"\",\n        \"description\": \"\"\n      }\n    },\n    {\n      \"column\": \"Customer Age\",\n      \"properties\": {\n        \"dtype\": \"number\",\n        \"std\": 13,\n        \"min\": 17,\n        \"max\": 51,\n        \"num_unique_values\": 5,\n        \"samples\": [\n          40,\n          51,\n          22\n        ],\n        \"semantic_type\": \"\",\n        \"description\": \"\"\n      }\n    },\n    {\n      \"column\": \"Customer Location\",\n      \"properties\": {\n        \"dtype\": \"string\",\n        \"num_unique_values\": 5,\n        \"samples\": [\n          \"East Timothy\",\n          \"South Nicole\",\n          \"Davismouth\"\n        ],\n        \"semantic_type\": \"\",\n        \"description\": \"\"\n      }\n    },\n    {\n      \"column\": \"Device Used\",\n      \"properties\": {\n        \"dtype\": \"category\",\n        \"num_unique_values\": 2,\n        \"samples\": [\n          \"desktop\",\n          \"tablet\"\n        ],\n        \"semantic_type\": \"\",\n        \"description\": \"\"\n      }\n    },\n    {\n      \"column\": \"IP Address\",\n      \"properties\": {\n        \"dtype\": \"string\",\n        \"num_unique_values\": 5,\n        \"samples\": [\n          \"208.106.249.121\",\n          \"190.172.14.169\"\n        ],\n        \"semantic_type\": \"\",\n        \"description\": \"\"\n      }\n    },\n    {\n      \"column\": \"Shipping Address\",\n      \"properties\": {\n        \"dtype\": \"string\",\n        \"num_unique_values\": 5,\n        \"samples\": [\n          \"634 May Keys\\nPort Cherylview, NV 75063\",\n          \"29799 Jason Hills Apt. 439\\nWest Richardtown, OH 36093\"\n        ],\n        \"semantic_type\": \"\",\n        \"description\": \"\"\n      }\n    },\n    {\n      \"column\": \"Billing Address\",\n      \"properties\": {\n        \"dtype\": \"string\",\n        \"num_unique_values\": 5,\n        \"samples\": [\n          \"634 May Keys\\nPort Cherylview, NV 75063\",\n          \"29799 Jason Hills Apt. 439\\nWest Richardtown, OH 36093\"\n        ],\n        \"semantic_type\": \"\",\n        \"description\": \"\"\n      }\n    },\n    {\n      \"column\": \"Is Fraudulent\",\n      \"properties\": {\n        \"dtype\": \"number\",\n        \"std\": 0,\n        \"min\": 0,\n        \"max\": 0,\n        \"num_unique_values\": 1,\n        \"samples\": [\n          0\n        ],\n        \"semantic_type\": \"\",\n        \"description\": \"\"\n      }\n    },\n    {\n      \"column\": \"Account Age Days\",\n      \"properties\": {\n        \"dtype\": \"number\",\n        \"std\": 51,\n        \"min\": 30,\n        \"max\": 158,\n        \"num_unique_values\": 5,\n        \"samples\": [\n          72\n        ],\n        \"semantic_type\": \"\",\n        \"description\": \"\"\n      }\n    },\n    {\n      \"column\": \"Transaction Hour\",\n      \"properties\": {\n        \"dtype\": \"number\",\n        \"std\": 6,\n        \"min\": 3,\n        \"max\": 20,\n        \"num_unique_values\": 4,\n        \"samples\": [\n          8\n        ],\n        \"semantic_type\": \"\",\n        \"description\": \"\"\n      }\n    }\n  ]\n}"
            }
          },
          "metadata": {}
        },
        {
          "output_type": "display_data",
          "data": {
            "text/plain": [
              "                               Transaction ID  \\\n",
              "1472947  c8604004-2f4c-42ce-a1c4-cd2bebca79bb   \n",
              "1472948  fff0df19-fd4a-42a5-bc42-64bb7b02edb0   \n",
              "1472949  9e79012f-e00b-47d1-8700-0c302db20d3e   \n",
              "1472950  917066b1-4dfb-4472-b3f0-292663c45d21   \n",
              "1472951  d1a811a2-6015-47fa-95e5-0a5282755932   \n",
              "\n",
              "                                  Customer ID  Transaction Amount  \\\n",
              "1472947  f8a534ad-0458-465e-a85b-3ad2cdf391bc              208.48   \n",
              "1472948  f2ef2239-d9b9-40d0-9993-4b8f305d5a7b              231.57   \n",
              "1472949  fa5b9a25-9606-478a-8abe-ef20bbb3980f              101.80   \n",
              "1472950  04524272-e14f-460b-bc70-5316bd28463d               61.80   \n",
              "1472951  637d5ed1-a4af-4234-a1d9-a3791b6f1bb6              376.44   \n",
              "\n",
              "            Transaction Date Payment Method Product Category  Quantity  \\\n",
              "1472947  2024-01-12 23:39:55         PayPal  health & beauty         2   \n",
              "1472948  2024-03-27 04:31:45    credit card         clothing         2   \n",
              "1472949  2024-01-31 23:51:42  bank transfer      electronics         4   \n",
              "1472950  2024-01-12 16:21:32  bank transfer      electronics         5   \n",
              "1472951  2024-02-19 18:57:20  bank transfer         clothing         5   \n",
              "\n",
              "         Customer Age Customer Location Device Used       IP Address  \\\n",
              "1472947            29   North Laurafort     desktop    27.245.104.92   \n",
              "1472948            32        Burnsville      tablet    203.54.50.163   \n",
              "1472949            36        Garciafort      mobile    51.241.30.149   \n",
              "1472950            34   Lake Josephberg     desktop     210.67.203.4   \n",
              "1472951            34       Fullermouth     desktop  107.116.208.218   \n",
              "\n",
              "                                          Shipping Address  \\\n",
              "1472947                         USNV Griffin\\nFPO AA 52700   \n",
              "1472948    478 John Square Apt. 235\\nMillerhaven, GA 68797   \n",
              "1472949  351 Frazier Radial Apt. 989\\nPort Charles, OH ...   \n",
              "1472950  27307 Gonzalez Shore Suite 661\\nPort Lynn, WV ...   \n",
              "1472951                   Unit 0520 Box 5911\\nDPO AE 75554   \n",
              "\n",
              "                                           Billing Address  Is Fraudulent  \\\n",
              "1472947                         USNV Griffin\\nFPO AA 52700              0   \n",
              "1472948    478 John Square Apt. 235\\nMillerhaven, GA 68797              0   \n",
              "1472949   182 House Island Suite 198\\nEast Scott, FM 84301              0   \n",
              "1472950  27307 Gonzalez Shore Suite 661\\nPort Lynn, WV ...              0   \n",
              "1472951                   Unit 0520 Box 5911\\nDPO AE 75554              0   \n",
              "\n",
              "         Account Age Days  Transaction Hour  \n",
              "1472947               149                23  \n",
              "1472948               132                 4  \n",
              "1472949                98                23  \n",
              "1472950               191                16  \n",
              "1472951               274                18  "
            ],
            "text/html": [
              "\n",
              "  <div id=\"df-b82a9d21-1869-4a36-884f-f0d047bd0818\" class=\"colab-df-container\">\n",
              "    <div>\n",
              "<style scoped>\n",
              "    .dataframe tbody tr th:only-of-type {\n",
              "        vertical-align: middle;\n",
              "    }\n",
              "\n",
              "    .dataframe tbody tr th {\n",
              "        vertical-align: top;\n",
              "    }\n",
              "\n",
              "    .dataframe thead th {\n",
              "        text-align: right;\n",
              "    }\n",
              "</style>\n",
              "<table border=\"1\" class=\"dataframe\">\n",
              "  <thead>\n",
              "    <tr style=\"text-align: right;\">\n",
              "      <th></th>\n",
              "      <th>Transaction ID</th>\n",
              "      <th>Customer ID</th>\n",
              "      <th>Transaction Amount</th>\n",
              "      <th>Transaction Date</th>\n",
              "      <th>Payment Method</th>\n",
              "      <th>Product Category</th>\n",
              "      <th>Quantity</th>\n",
              "      <th>Customer Age</th>\n",
              "      <th>Customer Location</th>\n",
              "      <th>Device Used</th>\n",
              "      <th>IP Address</th>\n",
              "      <th>Shipping Address</th>\n",
              "      <th>Billing Address</th>\n",
              "      <th>Is Fraudulent</th>\n",
              "      <th>Account Age Days</th>\n",
              "      <th>Transaction Hour</th>\n",
              "    </tr>\n",
              "  </thead>\n",
              "  <tbody>\n",
              "    <tr>\n",
              "      <th>1472947</th>\n",
              "      <td>c8604004-2f4c-42ce-a1c4-cd2bebca79bb</td>\n",
              "      <td>f8a534ad-0458-465e-a85b-3ad2cdf391bc</td>\n",
              "      <td>208.48</td>\n",
              "      <td>2024-01-12 23:39:55</td>\n",
              "      <td>PayPal</td>\n",
              "      <td>health &amp; beauty</td>\n",
              "      <td>2</td>\n",
              "      <td>29</td>\n",
              "      <td>North Laurafort</td>\n",
              "      <td>desktop</td>\n",
              "      <td>27.245.104.92</td>\n",
              "      <td>USNV Griffin\\nFPO AA 52700</td>\n",
              "      <td>USNV Griffin\\nFPO AA 52700</td>\n",
              "      <td>0</td>\n",
              "      <td>149</td>\n",
              "      <td>23</td>\n",
              "    </tr>\n",
              "    <tr>\n",
              "      <th>1472948</th>\n",
              "      <td>fff0df19-fd4a-42a5-bc42-64bb7b02edb0</td>\n",
              "      <td>f2ef2239-d9b9-40d0-9993-4b8f305d5a7b</td>\n",
              "      <td>231.57</td>\n",
              "      <td>2024-03-27 04:31:45</td>\n",
              "      <td>credit card</td>\n",
              "      <td>clothing</td>\n",
              "      <td>2</td>\n",
              "      <td>32</td>\n",
              "      <td>Burnsville</td>\n",
              "      <td>tablet</td>\n",
              "      <td>203.54.50.163</td>\n",
              "      <td>478 John Square Apt. 235\\nMillerhaven, GA 68797</td>\n",
              "      <td>478 John Square Apt. 235\\nMillerhaven, GA 68797</td>\n",
              "      <td>0</td>\n",
              "      <td>132</td>\n",
              "      <td>4</td>\n",
              "    </tr>\n",
              "    <tr>\n",
              "      <th>1472949</th>\n",
              "      <td>9e79012f-e00b-47d1-8700-0c302db20d3e</td>\n",
              "      <td>fa5b9a25-9606-478a-8abe-ef20bbb3980f</td>\n",
              "      <td>101.80</td>\n",
              "      <td>2024-01-31 23:51:42</td>\n",
              "      <td>bank transfer</td>\n",
              "      <td>electronics</td>\n",
              "      <td>4</td>\n",
              "      <td>36</td>\n",
              "      <td>Garciafort</td>\n",
              "      <td>mobile</td>\n",
              "      <td>51.241.30.149</td>\n",
              "      <td>351 Frazier Radial Apt. 989\\nPort Charles, OH ...</td>\n",
              "      <td>182 House Island Suite 198\\nEast Scott, FM 84301</td>\n",
              "      <td>0</td>\n",
              "      <td>98</td>\n",
              "      <td>23</td>\n",
              "    </tr>\n",
              "    <tr>\n",
              "      <th>1472950</th>\n",
              "      <td>917066b1-4dfb-4472-b3f0-292663c45d21</td>\n",
              "      <td>04524272-e14f-460b-bc70-5316bd28463d</td>\n",
              "      <td>61.80</td>\n",
              "      <td>2024-01-12 16:21:32</td>\n",
              "      <td>bank transfer</td>\n",
              "      <td>electronics</td>\n",
              "      <td>5</td>\n",
              "      <td>34</td>\n",
              "      <td>Lake Josephberg</td>\n",
              "      <td>desktop</td>\n",
              "      <td>210.67.203.4</td>\n",
              "      <td>27307 Gonzalez Shore Suite 661\\nPort Lynn, WV ...</td>\n",
              "      <td>27307 Gonzalez Shore Suite 661\\nPort Lynn, WV ...</td>\n",
              "      <td>0</td>\n",
              "      <td>191</td>\n",
              "      <td>16</td>\n",
              "    </tr>\n",
              "    <tr>\n",
              "      <th>1472951</th>\n",
              "      <td>d1a811a2-6015-47fa-95e5-0a5282755932</td>\n",
              "      <td>637d5ed1-a4af-4234-a1d9-a3791b6f1bb6</td>\n",
              "      <td>376.44</td>\n",
              "      <td>2024-02-19 18:57:20</td>\n",
              "      <td>bank transfer</td>\n",
              "      <td>clothing</td>\n",
              "      <td>5</td>\n",
              "      <td>34</td>\n",
              "      <td>Fullermouth</td>\n",
              "      <td>desktop</td>\n",
              "      <td>107.116.208.218</td>\n",
              "      <td>Unit 0520 Box 5911\\nDPO AE 75554</td>\n",
              "      <td>Unit 0520 Box 5911\\nDPO AE 75554</td>\n",
              "      <td>0</td>\n",
              "      <td>274</td>\n",
              "      <td>18</td>\n",
              "    </tr>\n",
              "  </tbody>\n",
              "</table>\n",
              "</div>\n",
              "    <div class=\"colab-df-buttons\">\n",
              "\n",
              "  <div class=\"colab-df-container\">\n",
              "    <button class=\"colab-df-convert\" onclick=\"convertToInteractive('df-b82a9d21-1869-4a36-884f-f0d047bd0818')\"\n",
              "            title=\"Convert this dataframe to an interactive table.\"\n",
              "            style=\"display:none;\">\n",
              "\n",
              "  <svg xmlns=\"http://www.w3.org/2000/svg\" height=\"24px\" viewBox=\"0 -960 960 960\">\n",
              "    <path d=\"M120-120v-720h720v720H120Zm60-500h600v-160H180v160Zm220 220h160v-160H400v160Zm0 220h160v-160H400v160ZM180-400h160v-160H180v160Zm440 0h160v-160H620v160ZM180-180h160v-160H180v160Zm440 0h160v-160H620v160Z\"/>\n",
              "  </svg>\n",
              "    </button>\n",
              "\n",
              "  <style>\n",
              "    .colab-df-container {\n",
              "      display:flex;\n",
              "      gap: 12px;\n",
              "    }\n",
              "\n",
              "    .colab-df-convert {\n",
              "      background-color: #E8F0FE;\n",
              "      border: none;\n",
              "      border-radius: 50%;\n",
              "      cursor: pointer;\n",
              "      display: none;\n",
              "      fill: #1967D2;\n",
              "      height: 32px;\n",
              "      padding: 0 0 0 0;\n",
              "      width: 32px;\n",
              "    }\n",
              "\n",
              "    .colab-df-convert:hover {\n",
              "      background-color: #E2EBFA;\n",
              "      box-shadow: 0px 1px 2px rgba(60, 64, 67, 0.3), 0px 1px 3px 1px rgba(60, 64, 67, 0.15);\n",
              "      fill: #174EA6;\n",
              "    }\n",
              "\n",
              "    .colab-df-buttons div {\n",
              "      margin-bottom: 4px;\n",
              "    }\n",
              "\n",
              "    [theme=dark] .colab-df-convert {\n",
              "      background-color: #3B4455;\n",
              "      fill: #D2E3FC;\n",
              "    }\n",
              "\n",
              "    [theme=dark] .colab-df-convert:hover {\n",
              "      background-color: #434B5C;\n",
              "      box-shadow: 0px 1px 3px 1px rgba(0, 0, 0, 0.15);\n",
              "      filter: drop-shadow(0px 1px 2px rgba(0, 0, 0, 0.3));\n",
              "      fill: #FFFFFF;\n",
              "    }\n",
              "  </style>\n",
              "\n",
              "    <script>\n",
              "      const buttonEl =\n",
              "        document.querySelector('#df-b82a9d21-1869-4a36-884f-f0d047bd0818 button.colab-df-convert');\n",
              "      buttonEl.style.display =\n",
              "        google.colab.kernel.accessAllowed ? 'block' : 'none';\n",
              "\n",
              "      async function convertToInteractive(key) {\n",
              "        const element = document.querySelector('#df-b82a9d21-1869-4a36-884f-f0d047bd0818');\n",
              "        const dataTable =\n",
              "          await google.colab.kernel.invokeFunction('convertToInteractive',\n",
              "                                                    [key], {});\n",
              "        if (!dataTable) return;\n",
              "\n",
              "        const docLinkHtml = 'Like what you see? Visit the ' +\n",
              "          '<a target=\"_blank\" href=https://colab.research.google.com/notebooks/data_table.ipynb>data table notebook</a>'\n",
              "          + ' to learn more about interactive tables.';\n",
              "        element.innerHTML = '';\n",
              "        dataTable['output_type'] = 'display_data';\n",
              "        await google.colab.output.renderOutput(dataTable, element);\n",
              "        const docLink = document.createElement('div');\n",
              "        docLink.innerHTML = docLinkHtml;\n",
              "        element.appendChild(docLink);\n",
              "      }\n",
              "    </script>\n",
              "  </div>\n",
              "\n",
              "\n",
              "    <div id=\"df-4efa7d1e-771d-4a80-97be-c9f9797e565a\">\n",
              "      <button class=\"colab-df-quickchart\" onclick=\"quickchart('df-4efa7d1e-771d-4a80-97be-c9f9797e565a')\"\n",
              "                title=\"Suggest charts\"\n",
              "                style=\"display:none;\">\n",
              "\n",
              "<svg xmlns=\"http://www.w3.org/2000/svg\" height=\"24px\"viewBox=\"0 0 24 24\"\n",
              "     width=\"24px\">\n",
              "    <g>\n",
              "        <path d=\"M19 3H5c-1.1 0-2 .9-2 2v14c0 1.1.9 2 2 2h14c1.1 0 2-.9 2-2V5c0-1.1-.9-2-2-2zM9 17H7v-7h2v7zm4 0h-2V7h2v10zm4 0h-2v-4h2v4z\"/>\n",
              "    </g>\n",
              "</svg>\n",
              "      </button>\n",
              "\n",
              "<style>\n",
              "  .colab-df-quickchart {\n",
              "      --bg-color: #E8F0FE;\n",
              "      --fill-color: #1967D2;\n",
              "      --hover-bg-color: #E2EBFA;\n",
              "      --hover-fill-color: #174EA6;\n",
              "      --disabled-fill-color: #AAA;\n",
              "      --disabled-bg-color: #DDD;\n",
              "  }\n",
              "\n",
              "  [theme=dark] .colab-df-quickchart {\n",
              "      --bg-color: #3B4455;\n",
              "      --fill-color: #D2E3FC;\n",
              "      --hover-bg-color: #434B5C;\n",
              "      --hover-fill-color: #FFFFFF;\n",
              "      --disabled-bg-color: #3B4455;\n",
              "      --disabled-fill-color: #666;\n",
              "  }\n",
              "\n",
              "  .colab-df-quickchart {\n",
              "    background-color: var(--bg-color);\n",
              "    border: none;\n",
              "    border-radius: 50%;\n",
              "    cursor: pointer;\n",
              "    display: none;\n",
              "    fill: var(--fill-color);\n",
              "    height: 32px;\n",
              "    padding: 0;\n",
              "    width: 32px;\n",
              "  }\n",
              "\n",
              "  .colab-df-quickchart:hover {\n",
              "    background-color: var(--hover-bg-color);\n",
              "    box-shadow: 0 1px 2px rgba(60, 64, 67, 0.3), 0 1px 3px 1px rgba(60, 64, 67, 0.15);\n",
              "    fill: var(--button-hover-fill-color);\n",
              "  }\n",
              "\n",
              "  .colab-df-quickchart-complete:disabled,\n",
              "  .colab-df-quickchart-complete:disabled:hover {\n",
              "    background-color: var(--disabled-bg-color);\n",
              "    fill: var(--disabled-fill-color);\n",
              "    box-shadow: none;\n",
              "  }\n",
              "\n",
              "  .colab-df-spinner {\n",
              "    border: 2px solid var(--fill-color);\n",
              "    border-color: transparent;\n",
              "    border-bottom-color: var(--fill-color);\n",
              "    animation:\n",
              "      spin 1s steps(1) infinite;\n",
              "  }\n",
              "\n",
              "  @keyframes spin {\n",
              "    0% {\n",
              "      border-color: transparent;\n",
              "      border-bottom-color: var(--fill-color);\n",
              "      border-left-color: var(--fill-color);\n",
              "    }\n",
              "    20% {\n",
              "      border-color: transparent;\n",
              "      border-left-color: var(--fill-color);\n",
              "      border-top-color: var(--fill-color);\n",
              "    }\n",
              "    30% {\n",
              "      border-color: transparent;\n",
              "      border-left-color: var(--fill-color);\n",
              "      border-top-color: var(--fill-color);\n",
              "      border-right-color: var(--fill-color);\n",
              "    }\n",
              "    40% {\n",
              "      border-color: transparent;\n",
              "      border-right-color: var(--fill-color);\n",
              "      border-top-color: var(--fill-color);\n",
              "    }\n",
              "    60% {\n",
              "      border-color: transparent;\n",
              "      border-right-color: var(--fill-color);\n",
              "    }\n",
              "    80% {\n",
              "      border-color: transparent;\n",
              "      border-right-color: var(--fill-color);\n",
              "      border-bottom-color: var(--fill-color);\n",
              "    }\n",
              "    90% {\n",
              "      border-color: transparent;\n",
              "      border-bottom-color: var(--fill-color);\n",
              "    }\n",
              "  }\n",
              "</style>\n",
              "\n",
              "      <script>\n",
              "        async function quickchart(key) {\n",
              "          const quickchartButtonEl =\n",
              "            document.querySelector('#' + key + ' button');\n",
              "          quickchartButtonEl.disabled = true;  // To prevent multiple clicks.\n",
              "          quickchartButtonEl.classList.add('colab-df-spinner');\n",
              "          try {\n",
              "            const charts = await google.colab.kernel.invokeFunction(\n",
              "                'suggestCharts', [key], {});\n",
              "          } catch (error) {\n",
              "            console.error('Error during call to suggestCharts:', error);\n",
              "          }\n",
              "          quickchartButtonEl.classList.remove('colab-df-spinner');\n",
              "          quickchartButtonEl.classList.add('colab-df-quickchart-complete');\n",
              "        }\n",
              "        (() => {\n",
              "          let quickchartButtonEl =\n",
              "            document.querySelector('#df-4efa7d1e-771d-4a80-97be-c9f9797e565a button');\n",
              "          quickchartButtonEl.style.display =\n",
              "            google.colab.kernel.accessAllowed ? 'block' : 'none';\n",
              "        })();\n",
              "      </script>\n",
              "    </div>\n",
              "\n",
              "    </div>\n",
              "  </div>\n"
            ],
            "application/vnd.google.colaboratory.intrinsic+json": {
              "type": "dataframe",
              "repr_error": "0"
            }
          },
          "metadata": {}
        }
      ]
    },
    {
      "cell_type": "code",
      "source": [
        "#Estadísticas descriptivas\n",
        "df.describe(include=\"all\").T"
      ],
      "metadata": {
        "colab": {
          "base_uri": "https://localhost:8080/",
          "height": 551
        },
        "id": "-AlCGR-q4ZwA",
        "outputId": "8073a6c5-2185-4296-9329-f614e711eeab"
      },
      "execution_count": 6,
      "outputs": [
        {
          "output_type": "execute_result",
          "data": {
            "text/plain": [
              "                        count   unique                                   top  \\\n",
              "Transaction ID        1472952  1472952  d1a811a2-6015-47fa-95e5-0a5282755932   \n",
              "Customer ID           1472952  1472952  637d5ed1-a4af-4234-a1d9-a3791b6f1bb6   \n",
              "Transaction Amount  1472952.0      NaN                                   NaN   \n",
              "Transaction Date      1472952  1346684                   2024-01-27 04:00:16   \n",
              "Payment Method        1472952        4                           credit card   \n",
              "Product Category      1472952        5                       health & beauty   \n",
              "Quantity            1472952.0      NaN                                   NaN   \n",
              "Customer Age        1472952.0      NaN                                   NaN   \n",
              "Customer Location     1472952    99135                           New Michael   \n",
              "Device Used           1472952        3                                mobile   \n",
              "IP Address            1472952  1472651                          62.29.103.68   \n",
              "Shipping Address      1472952  1472948            USCGC Holmes\\nFPO AA 56289   \n",
              "Billing Address       1472952  1472949              USNS Mills\\nFPO AE 77203   \n",
              "Is Fraudulent       1472952.0      NaN                                   NaN   \n",
              "Account Age Days    1472952.0      NaN                                   NaN   \n",
              "Transaction Hour    1472952.0      NaN                                   NaN   \n",
              "\n",
              "                      freq        mean         std   min    25%     50%  \\\n",
              "Transaction ID           1         NaN         NaN   NaN    NaN     NaN   \n",
              "Customer ID              1         NaN         NaN   NaN    NaN     NaN   \n",
              "Transaction Amount     NaN  226.768309  270.395099  10.0  68.61  151.76   \n",
              "Transaction Date         6         NaN         NaN   NaN    NaN     NaN   \n",
              "Payment Method      368429         NaN         NaN   NaN    NaN     NaN   \n",
              "Product Category    295367         NaN         NaN   NaN    NaN     NaN   \n",
              "Quantity               NaN     3.00023    1.414736   1.0    2.0     3.0   \n",
              "Customer Age           NaN   34.512081   10.003134 -16.0   28.0    35.0   \n",
              "Customer Location     1258         NaN         NaN   NaN    NaN     NaN   \n",
              "Device Used         491743         NaN         NaN   NaN    NaN     NaN   \n",
              "IP Address               2         NaN         NaN   NaN    NaN     NaN   \n",
              "Shipping Address         2         NaN         NaN   NaN    NaN     NaN   \n",
              "Billing Address          2         NaN         NaN   NaN    NaN     NaN   \n",
              "Is Fraudulent          NaN    0.050129    0.218212   0.0    0.0     0.0   \n",
              "Account Age Days       NaN  179.646398  106.864223   1.0   86.0   179.0   \n",
              "Transaction Hour       NaN   11.286964    6.975995   0.0    5.0    11.0   \n",
              "\n",
              "                       75%       max  \n",
              "Transaction ID         NaN       NaN  \n",
              "Customer ID            NaN       NaN  \n",
              "Transaction Amount  296.05  12701.75  \n",
              "Transaction Date       NaN       NaN  \n",
              "Payment Method         NaN       NaN  \n",
              "Product Category       NaN       NaN  \n",
              "Quantity               4.0       5.0  \n",
              "Customer Age          41.0      86.0  \n",
              "Customer Location      NaN       NaN  \n",
              "Device Used            NaN       NaN  \n",
              "IP Address             NaN       NaN  \n",
              "Shipping Address       NaN       NaN  \n",
              "Billing Address        NaN       NaN  \n",
              "Is Fraudulent          0.0       1.0  \n",
              "Account Age Days     272.0     365.0  \n",
              "Transaction Hour      17.0      23.0  "
            ],
            "text/html": [
              "\n",
              "  <div id=\"df-18af7687-55b6-4f5f-8b54-1dd1d52eaff1\" class=\"colab-df-container\">\n",
              "    <div>\n",
              "<style scoped>\n",
              "    .dataframe tbody tr th:only-of-type {\n",
              "        vertical-align: middle;\n",
              "    }\n",
              "\n",
              "    .dataframe tbody tr th {\n",
              "        vertical-align: top;\n",
              "    }\n",
              "\n",
              "    .dataframe thead th {\n",
              "        text-align: right;\n",
              "    }\n",
              "</style>\n",
              "<table border=\"1\" class=\"dataframe\">\n",
              "  <thead>\n",
              "    <tr style=\"text-align: right;\">\n",
              "      <th></th>\n",
              "      <th>count</th>\n",
              "      <th>unique</th>\n",
              "      <th>top</th>\n",
              "      <th>freq</th>\n",
              "      <th>mean</th>\n",
              "      <th>std</th>\n",
              "      <th>min</th>\n",
              "      <th>25%</th>\n",
              "      <th>50%</th>\n",
              "      <th>75%</th>\n",
              "      <th>max</th>\n",
              "    </tr>\n",
              "  </thead>\n",
              "  <tbody>\n",
              "    <tr>\n",
              "      <th>Transaction ID</th>\n",
              "      <td>1472952</td>\n",
              "      <td>1472952</td>\n",
              "      <td>d1a811a2-6015-47fa-95e5-0a5282755932</td>\n",
              "      <td>1</td>\n",
              "      <td>NaN</td>\n",
              "      <td>NaN</td>\n",
              "      <td>NaN</td>\n",
              "      <td>NaN</td>\n",
              "      <td>NaN</td>\n",
              "      <td>NaN</td>\n",
              "      <td>NaN</td>\n",
              "    </tr>\n",
              "    <tr>\n",
              "      <th>Customer ID</th>\n",
              "      <td>1472952</td>\n",
              "      <td>1472952</td>\n",
              "      <td>637d5ed1-a4af-4234-a1d9-a3791b6f1bb6</td>\n",
              "      <td>1</td>\n",
              "      <td>NaN</td>\n",
              "      <td>NaN</td>\n",
              "      <td>NaN</td>\n",
              "      <td>NaN</td>\n",
              "      <td>NaN</td>\n",
              "      <td>NaN</td>\n",
              "      <td>NaN</td>\n",
              "    </tr>\n",
              "    <tr>\n",
              "      <th>Transaction Amount</th>\n",
              "      <td>1472952.0</td>\n",
              "      <td>NaN</td>\n",
              "      <td>NaN</td>\n",
              "      <td>NaN</td>\n",
              "      <td>226.768309</td>\n",
              "      <td>270.395099</td>\n",
              "      <td>10.0</td>\n",
              "      <td>68.61</td>\n",
              "      <td>151.76</td>\n",
              "      <td>296.05</td>\n",
              "      <td>12701.75</td>\n",
              "    </tr>\n",
              "    <tr>\n",
              "      <th>Transaction Date</th>\n",
              "      <td>1472952</td>\n",
              "      <td>1346684</td>\n",
              "      <td>2024-01-27 04:00:16</td>\n",
              "      <td>6</td>\n",
              "      <td>NaN</td>\n",
              "      <td>NaN</td>\n",
              "      <td>NaN</td>\n",
              "      <td>NaN</td>\n",
              "      <td>NaN</td>\n",
              "      <td>NaN</td>\n",
              "      <td>NaN</td>\n",
              "    </tr>\n",
              "    <tr>\n",
              "      <th>Payment Method</th>\n",
              "      <td>1472952</td>\n",
              "      <td>4</td>\n",
              "      <td>credit card</td>\n",
              "      <td>368429</td>\n",
              "      <td>NaN</td>\n",
              "      <td>NaN</td>\n",
              "      <td>NaN</td>\n",
              "      <td>NaN</td>\n",
              "      <td>NaN</td>\n",
              "      <td>NaN</td>\n",
              "      <td>NaN</td>\n",
              "    </tr>\n",
              "    <tr>\n",
              "      <th>Product Category</th>\n",
              "      <td>1472952</td>\n",
              "      <td>5</td>\n",
              "      <td>health &amp; beauty</td>\n",
              "      <td>295367</td>\n",
              "      <td>NaN</td>\n",
              "      <td>NaN</td>\n",
              "      <td>NaN</td>\n",
              "      <td>NaN</td>\n",
              "      <td>NaN</td>\n",
              "      <td>NaN</td>\n",
              "      <td>NaN</td>\n",
              "    </tr>\n",
              "    <tr>\n",
              "      <th>Quantity</th>\n",
              "      <td>1472952.0</td>\n",
              "      <td>NaN</td>\n",
              "      <td>NaN</td>\n",
              "      <td>NaN</td>\n",
              "      <td>3.00023</td>\n",
              "      <td>1.414736</td>\n",
              "      <td>1.0</td>\n",
              "      <td>2.0</td>\n",
              "      <td>3.0</td>\n",
              "      <td>4.0</td>\n",
              "      <td>5.0</td>\n",
              "    </tr>\n",
              "    <tr>\n",
              "      <th>Customer Age</th>\n",
              "      <td>1472952.0</td>\n",
              "      <td>NaN</td>\n",
              "      <td>NaN</td>\n",
              "      <td>NaN</td>\n",
              "      <td>34.512081</td>\n",
              "      <td>10.003134</td>\n",
              "      <td>-16.0</td>\n",
              "      <td>28.0</td>\n",
              "      <td>35.0</td>\n",
              "      <td>41.0</td>\n",
              "      <td>86.0</td>\n",
              "    </tr>\n",
              "    <tr>\n",
              "      <th>Customer Location</th>\n",
              "      <td>1472952</td>\n",
              "      <td>99135</td>\n",
              "      <td>New Michael</td>\n",
              "      <td>1258</td>\n",
              "      <td>NaN</td>\n",
              "      <td>NaN</td>\n",
              "      <td>NaN</td>\n",
              "      <td>NaN</td>\n",
              "      <td>NaN</td>\n",
              "      <td>NaN</td>\n",
              "      <td>NaN</td>\n",
              "    </tr>\n",
              "    <tr>\n",
              "      <th>Device Used</th>\n",
              "      <td>1472952</td>\n",
              "      <td>3</td>\n",
              "      <td>mobile</td>\n",
              "      <td>491743</td>\n",
              "      <td>NaN</td>\n",
              "      <td>NaN</td>\n",
              "      <td>NaN</td>\n",
              "      <td>NaN</td>\n",
              "      <td>NaN</td>\n",
              "      <td>NaN</td>\n",
              "      <td>NaN</td>\n",
              "    </tr>\n",
              "    <tr>\n",
              "      <th>IP Address</th>\n",
              "      <td>1472952</td>\n",
              "      <td>1472651</td>\n",
              "      <td>62.29.103.68</td>\n",
              "      <td>2</td>\n",
              "      <td>NaN</td>\n",
              "      <td>NaN</td>\n",
              "      <td>NaN</td>\n",
              "      <td>NaN</td>\n",
              "      <td>NaN</td>\n",
              "      <td>NaN</td>\n",
              "      <td>NaN</td>\n",
              "    </tr>\n",
              "    <tr>\n",
              "      <th>Shipping Address</th>\n",
              "      <td>1472952</td>\n",
              "      <td>1472948</td>\n",
              "      <td>USCGC Holmes\\nFPO AA 56289</td>\n",
              "      <td>2</td>\n",
              "      <td>NaN</td>\n",
              "      <td>NaN</td>\n",
              "      <td>NaN</td>\n",
              "      <td>NaN</td>\n",
              "      <td>NaN</td>\n",
              "      <td>NaN</td>\n",
              "      <td>NaN</td>\n",
              "    </tr>\n",
              "    <tr>\n",
              "      <th>Billing Address</th>\n",
              "      <td>1472952</td>\n",
              "      <td>1472949</td>\n",
              "      <td>USNS Mills\\nFPO AE 77203</td>\n",
              "      <td>2</td>\n",
              "      <td>NaN</td>\n",
              "      <td>NaN</td>\n",
              "      <td>NaN</td>\n",
              "      <td>NaN</td>\n",
              "      <td>NaN</td>\n",
              "      <td>NaN</td>\n",
              "      <td>NaN</td>\n",
              "    </tr>\n",
              "    <tr>\n",
              "      <th>Is Fraudulent</th>\n",
              "      <td>1472952.0</td>\n",
              "      <td>NaN</td>\n",
              "      <td>NaN</td>\n",
              "      <td>NaN</td>\n",
              "      <td>0.050129</td>\n",
              "      <td>0.218212</td>\n",
              "      <td>0.0</td>\n",
              "      <td>0.0</td>\n",
              "      <td>0.0</td>\n",
              "      <td>0.0</td>\n",
              "      <td>1.0</td>\n",
              "    </tr>\n",
              "    <tr>\n",
              "      <th>Account Age Days</th>\n",
              "      <td>1472952.0</td>\n",
              "      <td>NaN</td>\n",
              "      <td>NaN</td>\n",
              "      <td>NaN</td>\n",
              "      <td>179.646398</td>\n",
              "      <td>106.864223</td>\n",
              "      <td>1.0</td>\n",
              "      <td>86.0</td>\n",
              "      <td>179.0</td>\n",
              "      <td>272.0</td>\n",
              "      <td>365.0</td>\n",
              "    </tr>\n",
              "    <tr>\n",
              "      <th>Transaction Hour</th>\n",
              "      <td>1472952.0</td>\n",
              "      <td>NaN</td>\n",
              "      <td>NaN</td>\n",
              "      <td>NaN</td>\n",
              "      <td>11.286964</td>\n",
              "      <td>6.975995</td>\n",
              "      <td>0.0</td>\n",
              "      <td>5.0</td>\n",
              "      <td>11.0</td>\n",
              "      <td>17.0</td>\n",
              "      <td>23.0</td>\n",
              "    </tr>\n",
              "  </tbody>\n",
              "</table>\n",
              "</div>\n",
              "    <div class=\"colab-df-buttons\">\n",
              "\n",
              "  <div class=\"colab-df-container\">\n",
              "    <button class=\"colab-df-convert\" onclick=\"convertToInteractive('df-18af7687-55b6-4f5f-8b54-1dd1d52eaff1')\"\n",
              "            title=\"Convert this dataframe to an interactive table.\"\n",
              "            style=\"display:none;\">\n",
              "\n",
              "  <svg xmlns=\"http://www.w3.org/2000/svg\" height=\"24px\" viewBox=\"0 -960 960 960\">\n",
              "    <path d=\"M120-120v-720h720v720H120Zm60-500h600v-160H180v160Zm220 220h160v-160H400v160Zm0 220h160v-160H400v160ZM180-400h160v-160H180v160Zm440 0h160v-160H620v160ZM180-180h160v-160H180v160Zm440 0h160v-160H620v160Z\"/>\n",
              "  </svg>\n",
              "    </button>\n",
              "\n",
              "  <style>\n",
              "    .colab-df-container {\n",
              "      display:flex;\n",
              "      gap: 12px;\n",
              "    }\n",
              "\n",
              "    .colab-df-convert {\n",
              "      background-color: #E8F0FE;\n",
              "      border: none;\n",
              "      border-radius: 50%;\n",
              "      cursor: pointer;\n",
              "      display: none;\n",
              "      fill: #1967D2;\n",
              "      height: 32px;\n",
              "      padding: 0 0 0 0;\n",
              "      width: 32px;\n",
              "    }\n",
              "\n",
              "    .colab-df-convert:hover {\n",
              "      background-color: #E2EBFA;\n",
              "      box-shadow: 0px 1px 2px rgba(60, 64, 67, 0.3), 0px 1px 3px 1px rgba(60, 64, 67, 0.15);\n",
              "      fill: #174EA6;\n",
              "    }\n",
              "\n",
              "    .colab-df-buttons div {\n",
              "      margin-bottom: 4px;\n",
              "    }\n",
              "\n",
              "    [theme=dark] .colab-df-convert {\n",
              "      background-color: #3B4455;\n",
              "      fill: #D2E3FC;\n",
              "    }\n",
              "\n",
              "    [theme=dark] .colab-df-convert:hover {\n",
              "      background-color: #434B5C;\n",
              "      box-shadow: 0px 1px 3px 1px rgba(0, 0, 0, 0.15);\n",
              "      filter: drop-shadow(0px 1px 2px rgba(0, 0, 0, 0.3));\n",
              "      fill: #FFFFFF;\n",
              "    }\n",
              "  </style>\n",
              "\n",
              "    <script>\n",
              "      const buttonEl =\n",
              "        document.querySelector('#df-18af7687-55b6-4f5f-8b54-1dd1d52eaff1 button.colab-df-convert');\n",
              "      buttonEl.style.display =\n",
              "        google.colab.kernel.accessAllowed ? 'block' : 'none';\n",
              "\n",
              "      async function convertToInteractive(key) {\n",
              "        const element = document.querySelector('#df-18af7687-55b6-4f5f-8b54-1dd1d52eaff1');\n",
              "        const dataTable =\n",
              "          await google.colab.kernel.invokeFunction('convertToInteractive',\n",
              "                                                    [key], {});\n",
              "        if (!dataTable) return;\n",
              "\n",
              "        const docLinkHtml = 'Like what you see? Visit the ' +\n",
              "          '<a target=\"_blank\" href=https://colab.research.google.com/notebooks/data_table.ipynb>data table notebook</a>'\n",
              "          + ' to learn more about interactive tables.';\n",
              "        element.innerHTML = '';\n",
              "        dataTable['output_type'] = 'display_data';\n",
              "        await google.colab.output.renderOutput(dataTable, element);\n",
              "        const docLink = document.createElement('div');\n",
              "        docLink.innerHTML = docLinkHtml;\n",
              "        element.appendChild(docLink);\n",
              "      }\n",
              "    </script>\n",
              "  </div>\n",
              "\n",
              "\n",
              "    <div id=\"df-c949ddc5-1135-4f29-bc7d-f15dd06114a0\">\n",
              "      <button class=\"colab-df-quickchart\" onclick=\"quickchart('df-c949ddc5-1135-4f29-bc7d-f15dd06114a0')\"\n",
              "                title=\"Suggest charts\"\n",
              "                style=\"display:none;\">\n",
              "\n",
              "<svg xmlns=\"http://www.w3.org/2000/svg\" height=\"24px\"viewBox=\"0 0 24 24\"\n",
              "     width=\"24px\">\n",
              "    <g>\n",
              "        <path d=\"M19 3H5c-1.1 0-2 .9-2 2v14c0 1.1.9 2 2 2h14c1.1 0 2-.9 2-2V5c0-1.1-.9-2-2-2zM9 17H7v-7h2v7zm4 0h-2V7h2v10zm4 0h-2v-4h2v4z\"/>\n",
              "    </g>\n",
              "</svg>\n",
              "      </button>\n",
              "\n",
              "<style>\n",
              "  .colab-df-quickchart {\n",
              "      --bg-color: #E8F0FE;\n",
              "      --fill-color: #1967D2;\n",
              "      --hover-bg-color: #E2EBFA;\n",
              "      --hover-fill-color: #174EA6;\n",
              "      --disabled-fill-color: #AAA;\n",
              "      --disabled-bg-color: #DDD;\n",
              "  }\n",
              "\n",
              "  [theme=dark] .colab-df-quickchart {\n",
              "      --bg-color: #3B4455;\n",
              "      --fill-color: #D2E3FC;\n",
              "      --hover-bg-color: #434B5C;\n",
              "      --hover-fill-color: #FFFFFF;\n",
              "      --disabled-bg-color: #3B4455;\n",
              "      --disabled-fill-color: #666;\n",
              "  }\n",
              "\n",
              "  .colab-df-quickchart {\n",
              "    background-color: var(--bg-color);\n",
              "    border: none;\n",
              "    border-radius: 50%;\n",
              "    cursor: pointer;\n",
              "    display: none;\n",
              "    fill: var(--fill-color);\n",
              "    height: 32px;\n",
              "    padding: 0;\n",
              "    width: 32px;\n",
              "  }\n",
              "\n",
              "  .colab-df-quickchart:hover {\n",
              "    background-color: var(--hover-bg-color);\n",
              "    box-shadow: 0 1px 2px rgba(60, 64, 67, 0.3), 0 1px 3px 1px rgba(60, 64, 67, 0.15);\n",
              "    fill: var(--button-hover-fill-color);\n",
              "  }\n",
              "\n",
              "  .colab-df-quickchart-complete:disabled,\n",
              "  .colab-df-quickchart-complete:disabled:hover {\n",
              "    background-color: var(--disabled-bg-color);\n",
              "    fill: var(--disabled-fill-color);\n",
              "    box-shadow: none;\n",
              "  }\n",
              "\n",
              "  .colab-df-spinner {\n",
              "    border: 2px solid var(--fill-color);\n",
              "    border-color: transparent;\n",
              "    border-bottom-color: var(--fill-color);\n",
              "    animation:\n",
              "      spin 1s steps(1) infinite;\n",
              "  }\n",
              "\n",
              "  @keyframes spin {\n",
              "    0% {\n",
              "      border-color: transparent;\n",
              "      border-bottom-color: var(--fill-color);\n",
              "      border-left-color: var(--fill-color);\n",
              "    }\n",
              "    20% {\n",
              "      border-color: transparent;\n",
              "      border-left-color: var(--fill-color);\n",
              "      border-top-color: var(--fill-color);\n",
              "    }\n",
              "    30% {\n",
              "      border-color: transparent;\n",
              "      border-left-color: var(--fill-color);\n",
              "      border-top-color: var(--fill-color);\n",
              "      border-right-color: var(--fill-color);\n",
              "    }\n",
              "    40% {\n",
              "      border-color: transparent;\n",
              "      border-right-color: var(--fill-color);\n",
              "      border-top-color: var(--fill-color);\n",
              "    }\n",
              "    60% {\n",
              "      border-color: transparent;\n",
              "      border-right-color: var(--fill-color);\n",
              "    }\n",
              "    80% {\n",
              "      border-color: transparent;\n",
              "      border-right-color: var(--fill-color);\n",
              "      border-bottom-color: var(--fill-color);\n",
              "    }\n",
              "    90% {\n",
              "      border-color: transparent;\n",
              "      border-bottom-color: var(--fill-color);\n",
              "    }\n",
              "  }\n",
              "</style>\n",
              "\n",
              "      <script>\n",
              "        async function quickchart(key) {\n",
              "          const quickchartButtonEl =\n",
              "            document.querySelector('#' + key + ' button');\n",
              "          quickchartButtonEl.disabled = true;  // To prevent multiple clicks.\n",
              "          quickchartButtonEl.classList.add('colab-df-spinner');\n",
              "          try {\n",
              "            const charts = await google.colab.kernel.invokeFunction(\n",
              "                'suggestCharts', [key], {});\n",
              "          } catch (error) {\n",
              "            console.error('Error during call to suggestCharts:', error);\n",
              "          }\n",
              "          quickchartButtonEl.classList.remove('colab-df-spinner');\n",
              "          quickchartButtonEl.classList.add('colab-df-quickchart-complete');\n",
              "        }\n",
              "        (() => {\n",
              "          let quickchartButtonEl =\n",
              "            document.querySelector('#df-c949ddc5-1135-4f29-bc7d-f15dd06114a0 button');\n",
              "          quickchartButtonEl.style.display =\n",
              "            google.colab.kernel.accessAllowed ? 'block' : 'none';\n",
              "        })();\n",
              "      </script>\n",
              "    </div>\n",
              "\n",
              "    </div>\n",
              "  </div>\n"
            ],
            "application/vnd.google.colaboratory.intrinsic+json": {
              "type": "dataframe",
              "summary": "{\n  \"name\": \"df\",\n  \"rows\": 16,\n  \"fields\": [\n    {\n      \"column\": \"count\",\n      \"properties\": {\n        \"dtype\": \"date\",\n        \"min\": \"1472952\",\n        \"max\": \"1472952\",\n        \"num_unique_values\": 1,\n        \"samples\": [\n          \"1472952\"\n        ],\n        \"semantic_type\": \"\",\n        \"description\": \"\"\n      }\n    },\n    {\n      \"column\": \"unique\",\n      \"properties\": {\n        \"dtype\": \"date\",\n        \"min\": 3,\n        \"max\": 1472952,\n        \"num_unique_values\": 9,\n        \"samples\": [\n          1472948\n        ],\n        \"semantic_type\": \"\",\n        \"description\": \"\"\n      }\n    },\n    {\n      \"column\": \"top\",\n      \"properties\": {\n        \"dtype\": \"string\",\n        \"num_unique_values\": 10,\n        \"samples\": [\n          \"USCGC Holmes\\nFPO AA 56289\"\n        ],\n        \"semantic_type\": \"\",\n        \"description\": \"\"\n      }\n    },\n    {\n      \"column\": \"freq\",\n      \"properties\": {\n        \"dtype\": \"date\",\n        \"min\": \"1\",\n        \"max\": \"491743\",\n        \"num_unique_values\": 7,\n        \"samples\": [\n          \"1\"\n        ],\n        \"semantic_type\": \"\",\n        \"description\": \"\"\n      }\n    },\n    {\n      \"column\": \"mean\",\n      \"properties\": {\n        \"dtype\": \"date\",\n        \"min\": 0.05012926422585393,\n        \"max\": 226.76830923886183,\n        \"num_unique_values\": 6,\n        \"samples\": [\n          226.76830923886183\n        ],\n        \"semantic_type\": \"\",\n        \"description\": \"\"\n      }\n    },\n    {\n      \"column\": \"std\",\n      \"properties\": {\n        \"dtype\": \"date\",\n        \"min\": 0.21821171696385644,\n        \"max\": 270.395098867965,\n        \"num_unique_values\": 6,\n        \"samples\": [\n          270.395098867965\n        ],\n        \"semantic_type\": \"\",\n        \"description\": \"\"\n      }\n    },\n    {\n      \"column\": \"min\",\n      \"properties\": {\n        \"dtype\": \"date\",\n        \"min\": -16.0,\n        \"max\": 10.0,\n        \"num_unique_values\": 4,\n        \"samples\": [\n          1.0\n        ],\n        \"semantic_type\": \"\",\n        \"description\": \"\"\n      }\n    },\n    {\n      \"column\": \"25%\",\n      \"properties\": {\n        \"dtype\": \"date\",\n        \"min\": 0.0,\n        \"max\": 86.0,\n        \"num_unique_values\": 6,\n        \"samples\": [\n          68.61\n        ],\n        \"semantic_type\": \"\",\n        \"description\": \"\"\n      }\n    },\n    {\n      \"column\": \"50%\",\n      \"properties\": {\n        \"dtype\": \"date\",\n        \"min\": 0.0,\n        \"max\": 179.0,\n        \"num_unique_values\": 6,\n        \"samples\": [\n          151.76\n        ],\n        \"semantic_type\": \"\",\n        \"description\": \"\"\n      }\n    },\n    {\n      \"column\": \"75%\",\n      \"properties\": {\n        \"dtype\": \"date\",\n        \"min\": 0.0,\n        \"max\": 296.05,\n        \"num_unique_values\": 6,\n        \"samples\": [\n          296.05\n        ],\n        \"semantic_type\": \"\",\n        \"description\": \"\"\n      }\n    },\n    {\n      \"column\": \"max\",\n      \"properties\": {\n        \"dtype\": \"date\",\n        \"min\": 1.0,\n        \"max\": 12701.75,\n        \"num_unique_values\": 6,\n        \"samples\": [\n          12701.75\n        ],\n        \"semantic_type\": \"\",\n        \"description\": \"\"\n      }\n    }\n  ]\n}"
            }
          },
          "metadata": {},
          "execution_count": 6
        }
      ]
    },
    {
      "cell_type": "markdown",
      "source": [
        "- **Transaction ID, Customer ID, Shipping address y Billing Address:** son identificadores únicos, no hay duplicados en estas columnas.\n",
        "No aportan señal directa al modelo.\n",
        "- **Customer Age:** su mínimo es -16. Debemos manejar las edades negativas.\n",
        "- **Customer location y IP address:** cuentan con demasiada cardinalidad para ser valores predictivos."
      ],
      "metadata": {
        "id": "nFw6g-afU00r"
      }
    },
    {
      "cell_type": "markdown",
      "source": [
        "## Duplicados y valores faltantes"
      ],
      "metadata": {
        "id": "TYJUfnIJYbww"
      }
    },
    {
      "cell_type": "code",
      "source": [
        "print(\"Duplicados totales: \", df.duplicated().sum())\n",
        "print(\"\\nNulos por columna:\\n\", df.isna().sum())"
      ],
      "metadata": {
        "colab": {
          "base_uri": "https://localhost:8080/"
        },
        "id": "doCFkl7cXIq-",
        "outputId": "e8854ad5-f4bc-4217-d553-f13b8288b941"
      },
      "execution_count": 7,
      "outputs": [
        {
          "output_type": "stream",
          "name": "stdout",
          "text": [
            "Duplicados totales:  0\n",
            "\n",
            "Nulos por columna:\n",
            " Transaction ID        0\n",
            "Customer ID           0\n",
            "Transaction Amount    0\n",
            "Transaction Date      0\n",
            "Payment Method        0\n",
            "Product Category      0\n",
            "Quantity              0\n",
            "Customer Age          0\n",
            "Customer Location     0\n",
            "Device Used           0\n",
            "IP Address            0\n",
            "Shipping Address      0\n",
            "Billing Address       0\n",
            "Is Fraudulent         0\n",
            "Account Age Days      0\n",
            "Transaction Hour      0\n",
            "dtype: int64\n"
          ]
        }
      ]
    },
    {
      "cell_type": "markdown",
      "source": [
        "Podemos observar que el dataset no cuenta con valores faltantes, por lo cual no se necesita ninguna configuración adicional."
      ],
      "metadata": {
        "id": "T3HsahY6XIGN"
      }
    },
    {
      "cell_type": "markdown",
      "source": [
        "## Distribución de la variable objetivo"
      ],
      "metadata": {
        "id": "2CVBlRTsYXuW"
      }
    },
    {
      "cell_type": "code",
      "source": [
        "plt.figure(figsize=(4,3))\n",
        "sns.countplot(x=\"Is Fraudulent\", data=df)\n",
        "plt.title(\"Balance de clases en 'Is Fraudulent'\")\n",
        "plt.show()\n",
        "print(\"\\nProporción de fraude:\\n\", df[\"Is Fraudulent\"].value_counts(normalize=True))"
      ],
      "metadata": {
        "colab": {
          "base_uri": "https://localhost:8080/",
          "height": 455
        },
        "id": "h6K5HQqxXlc_",
        "outputId": "7cd35604-5826-489f-a051-c25d9f12159a"
      },
      "execution_count": 8,
      "outputs": [
        {
          "output_type": "display_data",
          "data": {
            "text/plain": [
              "<Figure size 400x300 with 1 Axes>"
            ],
            "image/png": "[encoded data removed]"
          },
          "metadata": {}
        },
        {
          "output_type": "stream",
          "name": "stdout",
          "text": [
            "\n",
            "Proporción de fraude:\n",
            " Is Fraudulent\n",
            "0    0.949871\n",
            "1    0.050129\n",
            "Name: proportion, dtype: float64\n"
          ]
        }
      ]
    },
    {
      "cell_type": "markdown",
      "source": [
        "solo 5 % de las transacciones son fraude. El conjunto de datos tiene un desbalance de clases."
      ],
      "metadata": {
        "id": "BD3xojhyX1DG"
      }
    },
    {
      "cell_type": "markdown",
      "source": [
        "## Detección de outliers en variables numéricas"
      ],
      "metadata": {
        "id": "tfk_E2cXYhaB"
      }
    },
    {
      "cell_type": "code",
      "source": [
        "# Identificar columnas numéricas\n",
        "numeric_cols = df.select_dtypes(include=np.number).columns\n",
        "print(\"\\nColumnas numéricas:\", list(numeric_cols))"
      ],
      "metadata": {
        "colab": {
          "base_uri": "https://localhost:8080/"
        },
        "id": "LFsdryhBZKQU",
        "outputId": "32ddfdc8-2172-408b-ebbc-02c6e29fcc2e"
      },
      "execution_count": 9,
      "outputs": [
        {
          "output_type": "stream",
          "name": "stdout",
          "text": [
            "\n",
            "Columnas numéricas: ['Transaction Amount', 'Quantity', 'Customer Age', 'Is Fraudulent', 'Account Age Days', 'Transaction Hour']\n"
          ]
        }
      ]
    },
    {
      "cell_type": "markdown",
      "source": [
        "### 'Transaction Amount'"
      ],
      "metadata": {
        "id": "wG4O0beRYk8V"
      }
    },
    {
      "cell_type": "code",
      "source": [
        "# Histograma\n",
        "plt.figure(figsize=(8, 4))\n",
        "plt.hist(df[\"Transaction Amount\"], bins=50, edgecolor='black')\n",
        "plt.title(\"Histograma de Transaction Amount\")\n",
        "plt.xlabel(\"Transaction Amount\")\n",
        "plt.ylabel(\"Frecuencia\")\n",
        "plt.xlim(0, 2000)   # opcional: enfocar eje X hasta 2000\n",
        "plt.show()\n",
        "\n",
        "# Boxplot\n",
        "plt.figure(figsize=(8, 4))\n",
        "plt.boxplot(df[\"Transaction Amount\"], vert=False)\n",
        "plt.title(\"Boxplot de Transaction Amount (0–2000)\")\n",
        "plt.xlim(0, 2000)    # Enfocar hasta 2000\n",
        "plt.xlabel(\"Transaction Amount\")\n",
        "plt.show()"
      ],
      "metadata": {
        "colab": {
          "base_uri": "https://localhost:8080/",
          "height": 803
        },
        "id": "fD7zk7q_YQmM",
        "outputId": "c347789a-9a44-47ff-ddc7-1cc2a583b127"
      },
      "execution_count": 10,
      "outputs": [
        {
          "output_type": "display_data",
          "data": {
            "text/plain": [
              "<Figure size 800x400 with 1 Axes>"
            ],
            "image/png": "[encoded data removed]"
          },
          "metadata": {}
        },
        {
          "output_type": "display_data",
          "data": {
            "text/plain": [
              "<Figure size 800x400 with 1 Axes>"
            ],
            "image/png": "[encoded data removed]"
          },
          "metadata": {}
        }
      ]
    },
    {
      "cell_type": "markdown",
      "source": [
        "- El rectángulo (IQR) está prácticamente pegado al 0, lo que indica que el 50 % central de las transacciones son cantidades muy pequeñas.\n",
        "\n",
        "- Todos esos círculos fuera de los bigotes son outliers: transacciones de montos muy altos que distorsionan la escala.\n",
        "\n",
        "- Apoya fuertemente la necesidad de una transformación logarítmica para reducir el efecto de la cola derecha antes de modelar."
      ],
      "metadata": {
        "id": "dmZ-sL_cp9Yt"
      }
    },
    {
      "cell_type": "markdown",
      "source": [
        "### 'Quantity'"
      ],
      "metadata": {
        "id": "ZmPRu0izZ3s1"
      }
    },
    {
      "cell_type": "code",
      "source": [
        "# Histograma\n",
        "plt.figure(figsize=(8, 4))\n",
        "plt.hist(df[\"Quantity\"], bins=50, edgecolor='black')\n",
        "plt.title(\"Histograma de Quantity\")\n",
        "plt.xlabel(\"Quantity\")\n",
        "plt.ylabel(\"Frecuencia\")\n",
        "plt.show()\n",
        "\n",
        "# Boxplot\n",
        "plt.figure(figsize=(8, 4))\n",
        "plt.boxplot(df[\"Quantity\"], vert=False)\n",
        "plt.title(\"Boxplot de Quantity (0–2000)\")\n",
        "plt.xlabel(\"Quantity\")\n",
        "plt.show()"
      ],
      "metadata": {
        "colab": {
          "base_uri": "https://localhost:8080/",
          "height": 803
        },
        "id": "8A07qzwDZ6Q4",
        "outputId": "b9c1dc4b-30b8-4ea4-e8d3-1751bab0d138"
      },
      "execution_count": 11,
      "outputs": [
        {
          "output_type": "display_data",
          "data": {
            "text/plain": [
              "<Figure size 800x400 with 1 Axes>"
            ],
            "image/png": "[encoded data removed]"
          },
          "metadata": {}
        },
        {
          "output_type": "display_data",
          "data": {
            "text/plain": [
              "<Figure size 800x400 with 1 Axes>"
            ],
            "image/png": "[encoded data removed]"
          },
          "metadata": {}
        }
      ]
    },
    {
      "cell_type": "markdown",
      "source": [
        "- La variable 'Quantity' presenta una distribución uniforme dentro de su rango esperado, sin valores atípicos ni picos de frecuencia inusuales. Esto indica que los datos están bien comportados y no requieren tratamiento adicional"
      ],
      "metadata": {
        "id": "wm41EtoXcPTz"
      }
    },
    {
      "cell_type": "markdown",
      "source": [
        "### 'Customer Age'"
      ],
      "metadata": {
        "id": "84VG6Jz-aRns"
      }
    },
    {
      "cell_type": "code",
      "source": [
        "plt.figure(figsize=(6,3))\n",
        "sns.histplot(df[\"Customer Age\"], bins=30)\n",
        "plt.axvline(0, color=\"r\", linestyle=\"--\", label=\"Edad = 0\")\n",
        "plt.title(\"Distribución de Customer Age\")\n",
        "plt.legend()\n",
        "plt.show()\n",
        "\n",
        "neg_count = (df[\"Customer Age\"] < 0).sum()\n",
        "print(f\"Hay {neg_count} registros con edad negativa\")"
      ],
      "metadata": {
        "colab": {
          "base_uri": "https://localhost:8080/",
          "height": 352
        },
        "id": "67vXKfGEYWSy",
        "outputId": "e9037fa5-367a-4246-c9a8-9d3e4117ffdd"
      },
      "execution_count": 12,
      "outputs": [
        {
          "output_type": "display_data",
          "data": {
            "text/plain": [
              "<Figure size 600x300 with 1 Axes>"
            ],
            "image/png": "[encoded data removed]"
          },
          "metadata": {}
        },
        {
          "output_type": "stream",
          "name": "stdout",
          "text": [
            "Hay 258 registros con edad negativa\n"
          ]
        }
      ]
    },
    {
      "cell_type": "markdown",
      "source": [
        "- Aparte de tener valores negativos, los valores de “0” son inesperados (¿bebés?).\n",
        "\n",
        "- Se debería investigar esos ceros: ¿son valores faltantes codificados, outliers o clientes reales?\n",
        "\n",
        "- También se debería investigar las edades menores a 10. ¿Tiene sentido que personas con dichas edades realicen transacciones?"
      ],
      "metadata": {
        "id": "ZXikJiyQbTZ9"
      }
    },
    {
      "cell_type": "markdown",
      "source": [
        "### 'Account Age Days'"
      ],
      "metadata": {
        "id": "JL0RwLYrah4e"
      }
    },
    {
      "cell_type": "code",
      "source": [
        "# Histograma\n",
        "plt.figure(figsize=(8, 4))\n",
        "plt.hist(df[\"Account Age Days\"], bins=50, edgecolor='black')\n",
        "plt.title(\"Histograma de Account Age Days\")\n",
        "plt.xlabel(\"Account Age Days\")\n",
        "plt.ylabel(\"Frecuencia\")\n",
        "plt.show()\n",
        "\n",
        "# Boxplot\n",
        "plt.figure(figsize=(8, 4))\n",
        "plt.boxplot(df[\"Account Age Days\"], vert=False)\n",
        "plt.title(\"Boxplot de Account Age Days (0–2000)\")\n",
        "plt.xlabel(\"Account Age Days\")\n",
        "plt.show()"
      ],
      "metadata": {
        "colab": {
          "base_uri": "https://localhost:8080/",
          "height": 803
        },
        "id": "QPtCTMa2anJh",
        "outputId": "db1af5b6-b03a-454b-9ab0-ad7e68d5e678"
      },
      "execution_count": 13,
      "outputs": [
        {
          "output_type": "display_data",
          "data": {
            "text/plain": [
              "<Figure size 800x400 with 1 Axes>"
            ],
            "image/png": "[encoded data removed]"
          },
          "metadata": {}
        },
        {
          "output_type": "display_data",
          "data": {
            "text/plain": [
              "<Figure size 800x400 with 1 Axes>"
            ],
            "image/png": "[encoded data removed]"
          },
          "metadata": {}
        }
      ]
    },
    {
      "cell_type": "markdown",
      "source": [
        "- La variable 'Account Age Days' presenta una distribución uniforme dentro de su rango esperado, sin valores atípicos ni picos de frecuencia inusuales. Esto indica que los datos están bien comportados y no requieren tratamiento adicional.\n",
        "\n",
        "- Puede que haya un poco más de cuentas muy recientes, pero la diferencia es leve."
      ],
      "metadata": {
        "id": "5FNTJ2hXcWwf"
      }
    },
    {
      "cell_type": "markdown",
      "source": [
        "### 'Transaction Hour'"
      ],
      "metadata": {
        "id": "RLG8Pm62ahey"
      }
    },
    {
      "cell_type": "code",
      "source": [
        "# Histograma\n",
        "plt.figure(figsize=(8, 4))\n",
        "plt.hist(df[\"Transaction Hour\"], bins=50, edgecolor='black')\n",
        "plt.title(\"Histograma de Transaction Hour\")\n",
        "plt.xlabel(\"Transaction Hour\")\n",
        "plt.ylabel(\"Frecuencia\")\n",
        "plt.show()\n",
        "\n",
        "# Boxplot\n",
        "plt.figure(figsize=(8, 4))\n",
        "plt.boxplot(df[\"Transaction Hour\"], vert=False)\n",
        "plt.title(\"Boxplot de Transaction Hour (0–2000)\")\n",
        "plt.xlabel(\"Transaction Hour\")\n",
        "plt.show()"
      ],
      "metadata": {
        "colab": {
          "base_uri": "https://localhost:8080/",
          "height": 803
        },
        "id": "OJ1d9IDYanud",
        "outputId": "3a8c5bba-d8c3-445b-b47f-cf43fd1c0977"
      },
      "execution_count": 14,
      "outputs": [
        {
          "output_type": "display_data",
          "data": {
            "text/plain": [
              "<Figure size 800x400 with 1 Axes>"
            ],
            "image/png": "[encoded data removed]"
          },
          "metadata": {}
        },
        {
          "output_type": "display_data",
          "data": {
            "text/plain": [
              "<Figure size 800x400 with 1 Axes>"
            ],
            "image/png": "[encoded data removed]"
          },
          "metadata": {}
        }
      ]
    },
    {
      "cell_type": "markdown",
      "source": [
        "La variable 'Transaction Hour' presenta una distribución uniforme dentro de su rango esperado, sin valores atípicos ni picos de frecuencia inusuales. Esto indica que los datos están bien comportados y no requieren tratamiento adicional"
      ],
      "metadata": {
        "id": "mmpUeyCvchea"
      }
    },
    {
      "cell_type": "markdown",
      "source": [
        "## Variables categóricas"
      ],
      "metadata": {
        "id": "BjqOIPQ5Dc_8"
      }
    },
    {
      "cell_type": "code",
      "source": [
        "# Revisar cuáles variables son categóricas\n",
        "categorical_cols = df.select_dtypes(include=['object', 'category', 'bool']).columns\n",
        "\n",
        "print(\"\\nColumnas categóricas:\", list(categorical_cols))"
      ],
      "metadata": {
        "colab": {
          "base_uri": "https://localhost:8080/"
        },
        "id": "LWbfFLBgDgnd",
        "outputId": "9b062b32-cd2e-4cdc-e20e-66250a501753"
      },
      "execution_count": 15,
      "outputs": [
        {
          "output_type": "stream",
          "name": "stdout",
          "text": [
            "\n",
            "Columnas categóricas: ['Transaction ID', 'Customer ID', 'Transaction Date', 'Payment Method', 'Product Category', 'Customer Location', 'Device Used', 'IP Address', 'Shipping Address', 'Billing Address']\n"
          ]
        }
      ]
    },
    {
      "cell_type": "markdown",
      "source": [
        "### 'Payment Method'"
      ],
      "metadata": {
        "id": "VQtEvXNuFvjj"
      }
    },
    {
      "cell_type": "code",
      "source": [
        "# Obtener el conteo de cada método de pago\n",
        "payment_method_counts = df['Payment Method'].value_counts()\n",
        "\n",
        "#Histograma\n",
        "plt.figure(figsize=(10, 6))\n",
        "sns.countplot(x='Payment Method', data=df, order=payment_method_counts.index, palette='viridis')\n",
        "plt.title('Distribución de Payment Method')\n",
        "plt.xlabel('Payment Method')\n",
        "plt.ylabel('Frecuencia')\n",
        "plt.xticks(rotation=45, ha='right')\n",
        "plt.tight_layout()\n",
        "plt.show()"
      ],
      "metadata": {
        "colab": {
          "base_uri": "https://localhost:8080/",
          "height": 716
        },
        "id": "EZeg4CVfFOpj",
        "outputId": "284c76da-e16c-4431-d69a-7f65718db11d"
      },
      "execution_count": 16,
      "outputs": [
        {
          "output_type": "stream",
          "name": "stderr",
          "text": [
            "<ipython-input-16-df299036b7a0>:6: FutureWarning: \n",
            "\n",
            "Passing `palette` without assigning `hue` is deprecated and will be removed in v0.14.0. Assign the `x` variable to `hue` and set `legend=False` for the same effect.\n",
            "\n",
            "  sns.countplot(x='Payment Method', data=df, order=payment_method_counts.index, palette='viridis')\n"
          ]
        },
        {
          "output_type": "display_data",
          "data": {
            "text/plain": [
              "<Figure size 1000x600 with 1 Axes>"
            ],
            "image/png": "[encoded data removed]"
          },
          "metadata": {}
        }
      ]
    },
    {
      "cell_type": "markdown",
      "source": [
        "- La variable 'Payment Method' presenta una distribución bastante uniforme de sus 4 categorías."
      ],
      "metadata": {
        "id": "UhVS51R8F7cb"
      }
    },
    {
      "cell_type": "markdown",
      "source": [
        "### 'Product Category'"
      ],
      "metadata": {
        "id": "9e8jVQKbGrHb"
      }
    },
    {
      "cell_type": "code",
      "source": [
        "# Obtener el conteo de cada método de pago\n",
        "payment_method_counts = df['Product Category'].value_counts()\n",
        "\n",
        "#Histograma\n",
        "plt.figure(figsize=(10, 6))\n",
        "sns.countplot(x='Product Category', data=df, order=payment_method_counts.index, palette='viridis')\n",
        "plt.title('Distribución de Product Category')\n",
        "plt.xlabel('Product Category')\n",
        "plt.ylabel('Frecuencia')\n",
        "plt.xticks(rotation=45, ha='right')\n",
        "plt.tight_layout()\n",
        "plt.show()"
      ],
      "metadata": {
        "colab": {
          "base_uri": "https://localhost:8080/",
          "height": 716
        },
        "id": "cwjC3ej0G3-n",
        "outputId": "7db9d6f8-43e8-4c66-a126-c3ece10f2117"
      },
      "execution_count": 17,
      "outputs": [
        {
          "output_type": "stream",
          "name": "stderr",
          "text": [
            "<ipython-input-17-76242d9973f2>:6: FutureWarning: \n",
            "\n",
            "Passing `palette` without assigning `hue` is deprecated and will be removed in v0.14.0. Assign the `x` variable to `hue` and set `legend=False` for the same effect.\n",
            "\n",
            "  sns.countplot(x='Product Category', data=df, order=payment_method_counts.index, palette='viridis')\n"
          ]
        },
        {
          "output_type": "display_data",
          "data": {
            "text/plain": [
              "<Figure size 1000x600 with 1 Axes>"
            ],
            "image/png": "[encoded data removed]"
          },
          "metadata": {}
        }
      ]
    },
    {
      "cell_type": "markdown",
      "source": [
        "- La variable 'Product Category' presenta una distribución bastante uniforme de sus 5 categorías."
      ],
      "metadata": {
        "id": "34lWYHyyHCPb"
      }
    },
    {
      "cell_type": "markdown",
      "source": [
        "### 'Device used'"
      ],
      "metadata": {
        "id": "Nx1pkr0pGvf9"
      }
    },
    {
      "cell_type": "code",
      "source": [
        "# Obtener el conteo de cada método de pago\n",
        "payment_method_counts = df['Device Used'].value_counts()\n",
        "\n",
        "#Histograma\n",
        "plt.figure(figsize=(10, 6))\n",
        "sns.countplot(x='Device Used', data=df, order=payment_method_counts.index, palette='viridis')\n",
        "plt.title('Distribución de Device Used')\n",
        "plt.xlabel('Device Used')\n",
        "plt.ylabel('Frecuencia')\n",
        "plt.xticks(rotation=45, ha='right')\n",
        "plt.tight_layout()\n",
        "plt.show()"
      ],
      "metadata": {
        "colab": {
          "base_uri": "https://localhost:8080/",
          "height": 716
        },
        "id": "KyEyWlC4G4Ra",
        "outputId": "efef4738-155c-4665-8f66-fa7a29d5f8b0"
      },
      "execution_count": 18,
      "outputs": [
        {
          "output_type": "stream",
          "name": "stderr",
          "text": [
            "<ipython-input-18-e8971c88a5e5>:6: FutureWarning: \n",
            "\n",
            "Passing `palette` without assigning `hue` is deprecated and will be removed in v0.14.0. Assign the `x` variable to `hue` and set `legend=False` for the same effect.\n",
            "\n",
            "  sns.countplot(x='Device Used', data=df, order=payment_method_counts.index, palette='viridis')\n"
          ]
        },
        {
          "output_type": "display_data",
          "data": {
            "text/plain": [
              "<Figure size 1000x600 with 1 Axes>"
            ],
            "image/png": "[encoded data removed]"
          },
          "metadata": {}
        }
      ]
    },
    {
      "cell_type": "markdown",
      "source": [
        "- La variable 'Device Used' presenta una distribución bastante uniforme de sus 3 categorías."
      ],
      "metadata": {
        "id": "47nlbpHMHGYT"
      }
    },
    {
      "cell_type": "markdown",
      "source": [
        "# Limpieza de datos"
      ],
      "metadata": {
        "id": "wLjFGLocoJST"
      }
    },
    {
      "cell_type": "markdown",
      "source": [
        "## Valores negativos y significativamente pequeños en 'Customer Age'"
      ],
      "metadata": {
        "id": "CNkTFuD9aJhY"
      }
    },
    {
      "cell_type": "code",
      "source": [
        "#Valores negativos en variable de edad\n",
        "\n",
        "neg = (df[\"Customer Age\"] < 0).sum()\n",
        "print(f\"Hay {neg} registros con edad negativa\")\n",
        "\n",
        "# _Cuenta la frecuencia de las edades negativas\n",
        "neg_age_counts = df.loc[df[\"Customer Age\"] < 0, \"Customer Age\"].value_counts()\n",
        "\n",
        "print(neg_age_counts)"
      ],
      "metadata": {
        "colab": {
          "base_uri": "https://localhost:8080/"
        },
        "id": "_kfVcCWeY5qP",
        "outputId": "25fc86cc-57aa-4578-8bb0-74d6dfd8a716"
      },
      "execution_count": 19,
      "outputs": [
        {
          "output_type": "stream",
          "name": "stdout",
          "text": [
            "Hay 258 registros con edad negativa\n",
            "Customer Age\n",
            "-1     68\n",
            "-2     62\n",
            "-3     53\n",
            "-4     29\n",
            "-6     13\n",
            "-5     12\n",
            "-7      5\n",
            "-8      4\n",
            "-12     3\n",
            "-9      3\n",
            "-10     2\n",
            "-13     2\n",
            "-16     1\n",
            "-11     1\n",
            "Name: count, dtype: int64\n"
          ]
        }
      ]
    },
    {
      "cell_type": "markdown",
      "source": [
        "Dado que, al tomar su valor absoluto, las edades negativas caen dentro del rango esperado y no constituyen valores atípicos extremos, las corregiremos asignándoles su valor absoluto"
      ],
      "metadata": {
        "id": "hAamgRYlTOEp"
      }
    },
    {
      "cell_type": "code",
      "source": [
        "# Convierte las edades negativas en su valor absoluto\n",
        "mask = df[\"Customer Age\"] < 0\n",
        "df.loc[mask, \"Customer Age\"] = df.loc[mask, \"Customer Age\"].abs()\n",
        "\n",
        "neg = (df[\"Customer Age\"] < 0).sum()\n",
        "print(f\"Hay {neg} registros con edad negativa después de corregir\")"
      ],
      "metadata": {
        "colab": {
          "base_uri": "https://localhost:8080/"
        },
        "id": "FaYd7dAGTP_L",
        "outputId": "339da662-0547-4bd6-bb64-f12139eb9dff"
      },
      "execution_count": 20,
      "outputs": [
        {
          "output_type": "stream",
          "name": "stdout",
          "text": [
            "Hay 0 registros con edad negativa después de corregir\n"
          ]
        }
      ]
    },
    {
      "cell_type": "markdown",
      "source": [
        "## Cambio de datatypes"
      ],
      "metadata": {
        "id": "oIkWP7g0o0Oz"
      }
    },
    {
      "cell_type": "markdown",
      "source": [
        "### Variable 'Transaction Date'"
      ],
      "metadata": {
        "id": "g0PitL-sBQ8q"
      }
    },
    {
      "cell_type": "markdown",
      "source": [
        "Necesitamos transformar esta variable de tipo object a datetime."
      ],
      "metadata": {
        "id": "vdfqR30YqGr9"
      }
    },
    {
      "cell_type": "code",
      "source": [
        "df['Transaction Date'] = pd.to_datetime(\n",
        "    df['Transaction Date'],\n",
        "    format='%Y-%m-%d %H:%M:%S',\n",
        "    errors='coerce'    # convierte en NaT cualquier valor mal formado\n",
        ")\n",
        "\n",
        "# Verificar\n",
        "print(df['Transaction Date'].dtype)  # datetime64[ns]\n",
        "print(df['Transaction Date'].head())"
      ],
      "metadata": {
        "colab": {
          "base_uri": "https://localhost:8080/"
        },
        "id": "3iBh1IZxpmOY",
        "outputId": "fc2bc517-06cb-44d9-80f4-2ddd8c4428b2"
      },
      "execution_count": 21,
      "outputs": [
        {
          "output_type": "stream",
          "name": "stdout",
          "text": [
            "datetime64[ns]\n",
            "0   2024-02-20 05:58:41\n",
            "1   2024-02-25 08:09:45\n",
            "2   2024-03-18 03:42:55\n",
            "3   2024-03-16 20:41:31\n",
            "4   2024-01-15 05:08:17\n",
            "Name: Transaction Date, dtype: datetime64[ns]\n"
          ]
        }
      ]
    },
    {
      "cell_type": "markdown",
      "source": [
        "### Variable 'Is Fraudulent'"
      ],
      "metadata": {
        "id": "hP7sJnHKBVl9"
      }
    },
    {
      "cell_type": "markdown",
      "source": [
        "Queremos representar las clases de forma booleana ya que es un problema de clasificación binario"
      ],
      "metadata": {
        "id": "2dTdAENnBaRZ"
      }
    },
    {
      "cell_type": "code",
      "source": [
        "df['Is Fraudulent'] = df['Is Fraudulent'].astype(bool)\n",
        "\n",
        "# Verificar\n",
        "print(df['Is Fraudulent'].dtype)  # datetime64[ns]\n",
        "print(df['Is Fraudulent'].head())"
      ],
      "metadata": {
        "id": "90UWD_HuBna9",
        "colab": {
          "base_uri": "https://localhost:8080/"
        },
        "outputId": "ce909e61-b079-4bd2-c61f-1a1618bc5dd0"
      },
      "execution_count": 22,
      "outputs": [
        {
          "output_type": "stream",
          "name": "stdout",
          "text": [
            "bool\n",
            "0    False\n",
            "1    False\n",
            "2    False\n",
            "3    False\n",
            "4    False\n",
            "Name: Is Fraudulent, dtype: bool\n"
          ]
        }
      ]
    },
    {
      "cell_type": "markdown",
      "source": [
        "# Ingeniería de características"
      ],
      "metadata": {
        "id": "notCCHu8rOhQ"
      }
    },
    {
      "cell_type": "markdown",
      "source": [
        "## Shipping Address y Billing Address\n",
        "Estas dos variables son cadenas largas y muy específicas que difícilmente se repiten y no aportan un patrón directo. Mejor quedarnos sólo con el flag de coincidencia entre ambas.\n",
        "\n"
      ],
      "metadata": {
        "id": "AL3DIDPfuUvN"
      }
    },
    {
      "cell_type": "code",
      "source": [
        "df[\"Address Match\"] = (df[\"Shipping Address\"] == df[\"Billing Address\"]).astype(bool)"
      ],
      "metadata": {
        "id": "sJpXz_jkuar0"
      },
      "execution_count": 23,
      "outputs": []
    },
    {
      "cell_type": "markdown",
      "source": [
        "## Split de 'Transaction Date'"
      ],
      "metadata": {
        "id": "saJrZAEYQtOw"
      }
    },
    {
      "cell_type": "markdown",
      "source": [
        "Al extraer día, mes y día de la semana de la fecha de transacción, aportamos varias ventajas al modelo:\n",
        "\n",
        "**Detección de patrones temporales:**\n",
        "\n",
        "- **Día de la semana:** Pueden existir diferencias claras entre fraude en días laborables vs. fines de semana (por ejemplo, menos vigilancia bancaria el sábado o picos de “ataques” planificados los lunes).\n",
        "\n",
        "- **Día del mes:** Muchos usuarios cobran o pagan servicios en días fijos (p. ej. 1, 15 o último día), y los estafadores pueden aprovechar esos ciclos. Conocer el día de mes nos ayuda a ver si hay concentración de fraudes en torno a esas fechas.\n",
        "\n",
        "- **Mes:** El fraude suele aumentar en temporadas como diciembre (vacaciones) o septiembre (comienzo de cursos), y decaer en meses “tranquilos”.\n",
        "\n",
        "**Mejor capacidad de generalización:**\n",
        "\n",
        "En lugar de tratar la fecha completa como una variable de alta cardinalidad (lo que llevaría a cientos de valores únicos y “sobreajuste”), dividimos en tres features de bajo rango y le damos al modelo la posibilidad de aprender efectos estacionales de forma más sencilla."
      ],
      "metadata": {
        "id": "7UlNXeGo0dmb"
      }
    },
    {
      "cell_type": "code",
      "source": [
        "df['Day'] = df[\"Transaction Date\"].dt.day\n",
        "df[\"Day of the week\"] = df[\"Transaction Date\"].dt.day_of_week\n",
        "df[\"Month\"] = df[\"Transaction Date\"].dt.month"
      ],
      "metadata": {
        "id": "pr0h8Prn0md3"
      },
      "execution_count": 24,
      "outputs": []
    },
    {
      "cell_type": "markdown",
      "source": [
        "## 'Customer Location' y 'IP Address'"
      ],
      "metadata": {
        "id": "Y71JushZzcT8"
      }
    },
    {
      "cell_type": "markdown",
      "source": [
        "Salvo que realicemos un esfuerzo considerable para convertirlas en regiones/países o rangos de IP sospechosos, tienden a generar ruido.\n",
        "\n",
        "Con ~1472949 valores distintos, “Customer Location” en crudo aporta muy poca señal como categoría nominal. Vamos a optar por eliminar estas dos variabless"
      ],
      "metadata": {
        "id": "ImKbZSt5ztkm"
      }
    },
    {
      "cell_type": "markdown",
      "source": [
        "Vamos a eliminarlas junto con las columnas que no aportan información."
      ],
      "metadata": {
        "id": "6HjVKd6oz_fr"
      }
    },
    {
      "cell_type": "code",
      "source": [
        "df.drop(columns=[\"Transaction ID\", \"Customer ID\", \"Transaction Date\", \"Customer Location\", \"IP Address\", \"Shipping Address\", \"Billing Address\"], inplace=True)"
      ],
      "metadata": {
        "id": "NyiGOqI6q8Zv"
      },
      "execution_count": 25,
      "outputs": []
    },
    {
      "cell_type": "markdown",
      "source": [
        "Verificamos los cambios"
      ],
      "metadata": {
        "id": "SjMdZJZ6B369"
      }
    },
    {
      "cell_type": "code",
      "source": [
        "df.head()"
      ],
      "metadata": {
        "colab": {
          "base_uri": "https://localhost:8080/",
          "height": 224
        },
        "id": "4D4wBdCYB5Ub",
        "outputId": "fa0499eb-8abb-41d3-e821-a8c4bd7ac4f4"
      },
      "execution_count": 26,
      "outputs": [
        {
          "output_type": "execute_result",
          "data": {
            "text/plain": [
              "   Transaction Amount Payment Method Product Category  Quantity  Customer Age  \\\n",
              "0               58.09  bank transfer      electronics         1            17   \n",
              "1              389.96     debit card      electronics         2            40   \n",
              "2              134.19         PayPal    home & garden         2            22   \n",
              "3              226.17  bank transfer         clothing         5            31   \n",
              "4              121.53  bank transfer         clothing         2            51   \n",
              "\n",
              "  Device Used  Is Fraudulent  Account Age Days  Transaction Hour  \\\n",
              "0      tablet          False                30                 5   \n",
              "1     desktop          False                72                 8   \n",
              "2      tablet          False                63                 3   \n",
              "3     desktop          False               124                20   \n",
              "4      tablet          False               158                 5   \n",
              "\n",
              "   Address Match  Day  Day of the week  Month  \n",
              "0           True   20                1      2  \n",
              "1           True   25                6      2  \n",
              "2           True   18                0      3  \n",
              "3           True   16                5      3  \n",
              "4           True   15                0      1  "
            ],
            "text/html": [
              "\n",
              "  <div id=\"df-c6c613c3-4d55-4234-85e1-613e83c7d3fa\" class=\"colab-df-container\">\n",
              "    <div>\n",
              "<style scoped>\n",
              "    .dataframe tbody tr th:only-of-type {\n",
              "        vertical-align: middle;\n",
              "    }\n",
              "\n",
              "    .dataframe tbody tr th {\n",
              "        vertical-align: top;\n",
              "    }\n",
              "\n",
              "    .dataframe thead th {\n",
              "        text-align: right;\n",
              "    }\n",
              "</style>\n",
              "<table border=\"1\" class=\"dataframe\">\n",
              "  <thead>\n",
              "    <tr style=\"text-align: right;\">\n",
              "      <th></th>\n",
              "      <th>Transaction Amount</th>\n",
              "      <th>Payment Method</th>\n",
              "      <th>Product Category</th>\n",
              "      <th>Quantity</th>\n",
              "      <th>Customer Age</th>\n",
              "      <th>Device Used</th>\n",
              "      <th>Is Fraudulent</th>\n",
              "      <th>Account Age Days</th>\n",
              "      <th>Transaction Hour</th>\n",
              "      <th>Address Match</th>\n",
              "      <th>Day</th>\n",
              "      <th>Day of the week</th>\n",
              "      <th>Month</th>\n",
              "    </tr>\n",
              "  </thead>\n",
              "  <tbody>\n",
              "    <tr>\n",
              "      <th>0</th>\n",
              "      <td>58.09</td>\n",
              "      <td>bank transfer</td>\n",
              "      <td>electronics</td>\n",
              "      <td>1</td>\n",
              "      <td>17</td>\n",
              "      <td>tablet</td>\n",
              "      <td>False</td>\n",
              "      <td>30</td>\n",
              "      <td>5</td>\n",
              "      <td>True</td>\n",
              "      <td>20</td>\n",
              "      <td>1</td>\n",
              "      <td>2</td>\n",
              "    </tr>\n",
              "    <tr>\n",
              "      <th>1</th>\n",
              "      <td>389.96</td>\n",
              "      <td>debit card</td>\n",
              "      <td>electronics</td>\n",
              "      <td>2</td>\n",
              "      <td>40</td>\n",
              "      <td>desktop</td>\n",
              "      <td>False</td>\n",
              "      <td>72</td>\n",
              "      <td>8</td>\n",
              "      <td>True</td>\n",
              "      <td>25</td>\n",
              "      <td>6</td>\n",
              "      <td>2</td>\n",
              "    </tr>\n",
              "    <tr>\n",
              "      <th>2</th>\n",
              "      <td>134.19</td>\n",
              "      <td>PayPal</td>\n",
              "      <td>home &amp; garden</td>\n",
              "      <td>2</td>\n",
              "      <td>22</td>\n",
              "      <td>tablet</td>\n",
              "      <td>False</td>\n",
              "      <td>63</td>\n",
              "      <td>3</td>\n",
              "      <td>True</td>\n",
              "      <td>18</td>\n",
              "      <td>0</td>\n",
              "      <td>3</td>\n",
              "    </tr>\n",
              "    <tr>\n",
              "      <th>3</th>\n",
              "      <td>226.17</td>\n",
              "      <td>bank transfer</td>\n",
              "      <td>clothing</td>\n",
              "      <td>5</td>\n",
              "      <td>31</td>\n",
              "      <td>desktop</td>\n",
              "      <td>False</td>\n",
              "      <td>124</td>\n",
              "      <td>20</td>\n",
              "      <td>True</td>\n",
              "      <td>16</td>\n",
              "      <td>5</td>\n",
              "      <td>3</td>\n",
              "    </tr>\n",
              "    <tr>\n",
              "      <th>4</th>\n",
              "      <td>121.53</td>\n",
              "      <td>bank transfer</td>\n",
              "      <td>clothing</td>\n",
              "      <td>2</td>\n",
              "      <td>51</td>\n",
              "      <td>tablet</td>\n",
              "      <td>False</td>\n",
              "      <td>158</td>\n",
              "      <td>5</td>\n",
              "      <td>True</td>\n",
              "      <td>15</td>\n",
              "      <td>0</td>\n",
              "      <td>1</td>\n",
              "    </tr>\n",
              "  </tbody>\n",
              "</table>\n",
              "</div>\n",
              "    <div class=\"colab-df-buttons\">\n",
              "\n",
              "  <div class=\"colab-df-container\">\n",
              "    <button class=\"colab-df-convert\" onclick=\"convertToInteractive('df-c6c613c3-4d55-4234-85e1-613e83c7d3fa')\"\n",
              "            title=\"Convert this dataframe to an interactive table.\"\n",
              "            style=\"display:none;\">\n",
              "\n",
              "  <svg xmlns=\"http://www.w3.org/2000/svg\" height=\"24px\" viewBox=\"0 -960 960 960\">\n",
              "    <path d=\"M120-120v-720h720v720H120Zm60-500h600v-160H180v160Zm220 220h160v-160H400v160Zm0 220h160v-160H400v160ZM180-400h160v-160H180v160Zm440 0h160v-160H620v160ZM180-180h160v-160H180v160Zm440 0h160v-160H620v160Z\"/>\n",
              "  </svg>\n",
              "    </button>\n",
              "\n",
              "  <style>\n",
              "    .colab-df-container {\n",
              "      display:flex;\n",
              "      gap: 12px;\n",
              "    }\n",
              "\n",
              "    .colab-df-convert {\n",
              "      background-color: #E8F0FE;\n",
              "      border: none;\n",
              "      border-radius: 50%;\n",
              "      cursor: pointer;\n",
              "      display: none;\n",
              "      fill: #1967D2;\n",
              "      height: 32px;\n",
              "      padding: 0 0 0 0;\n",
              "      width: 32px;\n",
              "    }\n",
              "\n",
              "    .colab-df-convert:hover {\n",
              "      background-color: #E2EBFA;\n",
              "      box-shadow: 0px 1px 2px rgba(60, 64, 67, 0.3), 0px 1px 3px 1px rgba(60, 64, 67, 0.15);\n",
              "      fill: #174EA6;\n",
              "    }\n",
              "\n",
              "    .colab-df-buttons div {\n",
              "      margin-bottom: 4px;\n",
              "    }\n",
              "\n",
              "    [theme=dark] .colab-df-convert {\n",
              "      background-color: #3B4455;\n",
              "      fill: #D2E3FC;\n",
              "    }\n",
              "\n",
              "    [theme=dark] .colab-df-convert:hover {\n",
              "      background-color: #434B5C;\n",
              "      box-shadow: 0px 1px 3px 1px rgba(0, 0, 0, 0.15);\n",
              "      filter: drop-shadow(0px 1px 2px rgba(0, 0, 0, 0.3));\n",
              "      fill: #FFFFFF;\n",
              "    }\n",
              "  </style>\n",
              "\n",
              "    <script>\n",
              "      const buttonEl =\n",
              "        document.querySelector('#df-c6c613c3-4d55-4234-85e1-613e83c7d3fa button.colab-df-convert');\n",
              "      buttonEl.style.display =\n",
              "        google.colab.kernel.accessAllowed ? 'block' : 'none';\n",
              "\n",
              "      async function convertToInteractive(key) {\n",
              "        const element = document.querySelector('#df-c6c613c3-4d55-4234-85e1-613e83c7d3fa');\n",
              "        const dataTable =\n",
              "          await google.colab.kernel.invokeFunction('convertToInteractive',\n",
              "                                                    [key], {});\n",
              "        if (!dataTable) return;\n",
              "\n",
              "        const docLinkHtml = 'Like what you see? Visit the ' +\n",
              "          '<a target=\"_blank\" href=https://colab.research.google.com/notebooks/data_table.ipynb>data table notebook</a>'\n",
              "          + ' to learn more about interactive tables.';\n",
              "        element.innerHTML = '';\n",
              "        dataTable['output_type'] = 'display_data';\n",
              "        await google.colab.output.renderOutput(dataTable, element);\n",
              "        const docLink = document.createElement('div');\n",
              "        docLink.innerHTML = docLinkHtml;\n",
              "        element.appendChild(docLink);\n",
              "      }\n",
              "    </script>\n",
              "  </div>\n",
              "\n",
              "\n",
              "    <div id=\"df-235c7ebb-c575-4e85-b184-c0bbbf708f72\">\n",
              "      <button class=\"colab-df-quickchart\" onclick=\"quickchart('df-235c7ebb-c575-4e85-b184-c0bbbf708f72')\"\n",
              "                title=\"Suggest charts\"\n",
              "                style=\"display:none;\">\n",
              "\n",
              "<svg xmlns=\"http://www.w3.org/2000/svg\" height=\"24px\"viewBox=\"0 0 24 24\"\n",
              "     width=\"24px\">\n",
              "    <g>\n",
              "        <path d=\"M19 3H5c-1.1 0-2 .9-2 2v14c0 1.1.9 2 2 2h14c1.1 0 2-.9 2-2V5c0-1.1-.9-2-2-2zM9 17H7v-7h2v7zm4 0h-2V7h2v10zm4 0h-2v-4h2v4z\"/>\n",
              "    </g>\n",
              "</svg>\n",
              "      </button>\n",
              "\n",
              "<style>\n",
              "  .colab-df-quickchart {\n",
              "      --bg-color: #E8F0FE;\n",
              "      --fill-color: #1967D2;\n",
              "      --hover-bg-color: #E2EBFA;\n",
              "      --hover-fill-color: #174EA6;\n",
              "      --disabled-fill-color: #AAA;\n",
              "      --disabled-bg-color: #DDD;\n",
              "  }\n",
              "\n",
              "  [theme=dark] .colab-df-quickchart {\n",
              "      --bg-color: #3B4455;\n",
              "      --fill-color: #D2E3FC;\n",
              "      --hover-bg-color: #434B5C;\n",
              "      --hover-fill-color: #FFFFFF;\n",
              "      --disabled-bg-color: #3B4455;\n",
              "      --disabled-fill-color: #666;\n",
              "  }\n",
              "\n",
              "  .colab-df-quickchart {\n",
              "    background-color: var(--bg-color);\n",
              "    border: none;\n",
              "    border-radius: 50%;\n",
              "    cursor: pointer;\n",
              "    display: none;\n",
              "    fill: var(--fill-color);\n",
              "    height: 32px;\n",
              "    padding: 0;\n",
              "    width: 32px;\n",
              "  }\n",
              "\n",
              "  .colab-df-quickchart:hover {\n",
              "    background-color: var(--hover-bg-color);\n",
              "    box-shadow: 0 1px 2px rgba(60, 64, 67, 0.3), 0 1px 3px 1px rgba(60, 64, 67, 0.15);\n",
              "    fill: var(--button-hover-fill-color);\n",
              "  }\n",
              "\n",
              "  .colab-df-quickchart-complete:disabled,\n",
              "  .colab-df-quickchart-complete:disabled:hover {\n",
              "    background-color: var(--disabled-bg-color);\n",
              "    fill: var(--disabled-fill-color);\n",
              "    box-shadow: none;\n",
              "  }\n",
              "\n",
              "  .colab-df-spinner {\n",
              "    border: 2px solid var(--fill-color);\n",
              "    border-color: transparent;\n",
              "    border-bottom-color: var(--fill-color);\n",
              "    animation:\n",
              "      spin 1s steps(1) infinite;\n",
              "  }\n",
              "\n",
              "  @keyframes spin {\n",
              "    0% {\n",
              "      border-color: transparent;\n",
              "      border-bottom-color: var(--fill-color);\n",
              "      border-left-color: var(--fill-color);\n",
              "    }\n",
              "    20% {\n",
              "      border-color: transparent;\n",
              "      border-left-color: var(--fill-color);\n",
              "      border-top-color: var(--fill-color);\n",
              "    }\n",
              "    30% {\n",
              "      border-color: transparent;\n",
              "      border-left-color: var(--fill-color);\n",
              "      border-top-color: var(--fill-color);\n",
              "      border-right-color: var(--fill-color);\n",
              "    }\n",
              "    40% {\n",
              "      border-color: transparent;\n",
              "      border-right-color: var(--fill-color);\n",
              "      border-top-color: var(--fill-color);\n",
              "    }\n",
              "    60% {\n",
              "      border-color: transparent;\n",
              "      border-right-color: var(--fill-color);\n",
              "    }\n",
              "    80% {\n",
              "      border-color: transparent;\n",
              "      border-right-color: var(--fill-color);\n",
              "      border-bottom-color: var(--fill-color);\n",
              "    }\n",
              "    90% {\n",
              "      border-color: transparent;\n",
              "      border-bottom-color: var(--fill-color);\n",
              "    }\n",
              "  }\n",
              "</style>\n",
              "\n",
              "      <script>\n",
              "        async function quickchart(key) {\n",
              "          const quickchartButtonEl =\n",
              "            document.querySelector('#' + key + ' button');\n",
              "          quickchartButtonEl.disabled = true;  // To prevent multiple clicks.\n",
              "          quickchartButtonEl.classList.add('colab-df-spinner');\n",
              "          try {\n",
              "            const charts = await google.colab.kernel.invokeFunction(\n",
              "                'suggestCharts', [key], {});\n",
              "          } catch (error) {\n",
              "            console.error('Error during call to suggestCharts:', error);\n",
              "          }\n",
              "          quickchartButtonEl.classList.remove('colab-df-spinner');\n",
              "          quickchartButtonEl.classList.add('colab-df-quickchart-complete');\n",
              "        }\n",
              "        (() => {\n",
              "          let quickchartButtonEl =\n",
              "            document.querySelector('#df-235c7ebb-c575-4e85-b184-c0bbbf708f72 button');\n",
              "          quickchartButtonEl.style.display =\n",
              "            google.colab.kernel.accessAllowed ? 'block' : 'none';\n",
              "        })();\n",
              "      </script>\n",
              "    </div>\n",
              "\n",
              "    </div>\n",
              "  </div>\n"
            ],
            "application/vnd.google.colaboratory.intrinsic+json": {
              "type": "dataframe",
              "variable_name": "df"
            }
          },
          "metadata": {},
          "execution_count": 26
        }
      ]
    },
    {
      "cell_type": "markdown",
      "source": [
        "# Preprocesamiento final"
      ],
      "metadata": {
        "id": "cdoKLc1edi_k"
      }
    },
    {
      "cell_type": "markdown",
      "source": [
        "## Escalado/Transformaciones"
      ],
      "metadata": {
        "id": "DLt5nTeAd38Y"
      }
    },
    {
      "cell_type": "markdown",
      "source": [
        "### Transformación logarítmica de 'Transaction Amount'"
      ],
      "metadata": {
        "id": "kc5DD4VFeARF"
      }
    },
    {
      "cell_type": "code",
      "source": [
        "fig, axes = plt.subplots(1, 2, figsize=(12, 5))\n",
        "\n",
        "# Histograma original\n",
        "axes[0].hist(df[\"Transaction Amount\"], bins=50, edgecolor='black')\n",
        "axes[0].set_title(\"Histograma de Transaction Amount\")\n",
        "axes[0].set_xlabel(\"Transaction Amount\")\n",
        "axes[0].set_ylabel(\"Frecuencia\")\n",
        "\n",
        "# Histograma log(1 + x)\n",
        "axes[1].hist(np.log1p(df[\"Transaction Amount\"]), bins=50, edgecolor='black')\n",
        "axes[1].set_title(\"Histograma de log1p(Transaction Amount)\")\n",
        "axes[1].set_xlabel(\"log(1 + Transaction Amount)\")\n",
        "axes[1].set_ylabel(\"Frecuencia\")\n",
        "\n",
        "plt.tight_layout()\n",
        "plt.show()"
      ],
      "metadata": {
        "colab": {
          "base_uri": "https://localhost:8080/",
          "height": 507
        },
        "id": "swXtPxq9d_5S",
        "outputId": "85b89e63-9dbb-435e-c876-2a04a0f7402d"
      },
      "execution_count": 27,
      "outputs": [
        {
          "output_type": "display_data",
          "data": {
            "text/plain": [
              "<Figure size 1200x500 with 2 Axes>"
            ],
            "image/png": "[encoded data removed]"
          },
          "metadata": {}
        }
      ]
    },
    {
      "cell_type": "markdown",
      "source": [
        "Transformar **Transaction Amount** con log(1+x) nos aporta principalmente:\n",
        "\n",
        "- **Reducción de sesgo:**\n",
        "La distribución original está muy sesgada a la derecha (unos pocos montos enormes arrastran la media). El log comprime la cola larga y hace la distribución más simétrica, facilitando que muchos algoritmos encuentren patrones sin que los outliers dominen.\n",
        "\n",
        "- **Heterocedasticidad mitigada:**\n",
        "En crudo, la varianza crece con el valor del monto. Tras el log, la dispersión se homogeneiza, mejorando las suposiciones de muchos modelos (especialmente lineales).\n",
        "\n",
        "- **Efecto de outliers amortiguado:**\n",
        "Montos extremos (por ejemplo 9 000 o 10 000) pasan a valores “mucho más cercanos” al rango medio, evitando que penalicen excesivamente la optimización.\n",
        "\n",
        "- **Mejor comportamiento numérico:**\n",
        "Muchos estimadores (regresión, redes neuronales, SVMs) funcionan mejor cuando las variables tienen distribuciones aproximadamente normales y rangos moderados."
      ],
      "metadata": {
        "id": "A8YgsszpJ-aA"
      }
    },
    {
      "cell_type": "code",
      "source": [
        "# 1. Log-transform in place (log1p = log(1 + x), para manejar ceros)\n",
        "df[\"Transaction Amount\"] = np.log1p(df[\"Transaction Amount\"])\n",
        "\n",
        "# 2. Escalado con StandardScaler\n",
        "scaler = StandardScaler()\n",
        "\n",
        "# Fit sobre la columna transformada y transformar\n",
        "df[\"Transaction Amount\"] = scaler.fit_transform(\n",
        "    df[[\"Transaction Amount\"]]\n",
        ")"
      ],
      "metadata": {
        "id": "QU1JSHPGK603"
      },
      "execution_count": 28,
      "outputs": []
    },
    {
      "cell_type": "code",
      "source": [
        "# Histograma de la variable Amount transformada\n",
        "axes[0].hist(df[\"Transaction Amount\"], bins=50, edgecolor='black')\n",
        "axes[0].set_title(\"Histograma de Transaction Amount\")\n",
        "axes[0].set_xlabel(\"Transaction Amount\")\n",
        "axes[0].set_ylabel(\"Frecuencia\")\n",
        "\n",
        "plt.tight_layout()\n",
        "plt.show()"
      ],
      "metadata": {
        "colab": {
          "base_uri": "https://localhost:8080/",
          "height": 35
        },
        "id": "CtqbLAPkO396",
        "outputId": "f53f1565-0c09-450d-ad64-d18856d4835e"
      },
      "execution_count": 29,
      "outputs": [
        {
          "output_type": "display_data",
          "data": {
            "text/plain": [
              "<Figure size 640x480 with 0 Axes>"
            ]
          },
          "metadata": {}
        }
      ]
    },
    {
      "cell_type": "markdown",
      "source": [
        "## Codificación de variables categóricas"
      ],
      "metadata": {
        "id": "CxCI0ZFUd0pG"
      }
    },
    {
      "cell_type": "code",
      "source": [
        "# 1) One-hot encoding con pandas\n",
        "\n",
        "df_ohe = pd.get_dummies(df,\n",
        "                        columns=[\"Payment Method\",\"Product Category\",\"Device Used\"],\n",
        "                        drop_first=False)\n",
        "df_ohe.head()"
      ],
      "metadata": {
        "colab": {
          "base_uri": "https://localhost:8080/",
          "height": 308
        },
        "id": "h3agrpDzHiuG",
        "outputId": "bc6b72ec-08c1-4298-96a0-ab56bb4032cb"
      },
      "execution_count": 30,
      "outputs": [
        {
          "output_type": "execute_result",
          "data": {
            "text/plain": [
              "   Transaction Amount  Quantity  Customer Age  Is Fraudulent  \\\n",
              "0           -0.834141         1            17          False   \n",
              "1            0.994897         2            40          False   \n",
              "2           -0.033023         2            22          False   \n",
              "3            0.469375         5            31          False   \n",
              "4           -0.128200         2            51          False   \n",
              "\n",
              "   Account Age Days  Transaction Hour  Address Match  Day  Day of the week  \\\n",
              "0                30                 5           True   20                1   \n",
              "1                72                 8           True   25                6   \n",
              "2                63                 3           True   18                0   \n",
              "3               124                20           True   16                5   \n",
              "4               158                 5           True   15                0   \n",
              "\n",
              "   Month  ...  Payment Method_credit card  Payment Method_debit card  \\\n",
              "0      2  ...                       False                      False   \n",
              "1      2  ...                       False                       True   \n",
              "2      3  ...                       False                      False   \n",
              "3      3  ...                       False                      False   \n",
              "4      1  ...                       False                      False   \n",
              "\n",
              "   Product Category_clothing  Product Category_electronics  \\\n",
              "0                      False                          True   \n",
              "1                      False                          True   \n",
              "2                      False                         False   \n",
              "3                       True                         False   \n",
              "4                       True                         False   \n",
              "\n",
              "   Product Category_health & beauty  Product Category_home & garden  \\\n",
              "0                             False                           False   \n",
              "1                             False                           False   \n",
              "2                             False                            True   \n",
              "3                             False                           False   \n",
              "4                             False                           False   \n",
              "\n",
              "   Product Category_toys & games  Device Used_desktop  Device Used_mobile  \\\n",
              "0                          False                False               False   \n",
              "1                          False                 True               False   \n",
              "2                          False                False               False   \n",
              "3                          False                 True               False   \n",
              "4                          False                False               False   \n",
              "\n",
              "   Device Used_tablet  \n",
              "0                True  \n",
              "1               False  \n",
              "2                True  \n",
              "3               False  \n",
              "4                True  \n",
              "\n",
              "[5 rows x 22 columns]"
            ],
            "text/html": [
              "\n",
              "  <div id=\"df-6d55d639-ae78-4a04-ba59-38f67e5efa62\" class=\"colab-df-container\">\n",
              "    <div>\n",
              "<style scoped>\n",
              "    .dataframe tbody tr th:only-of-type {\n",
              "        vertical-align: middle;\n",
              "    }\n",
              "\n",
              "    .dataframe tbody tr th {\n",
              "        vertical-align: top;\n",
              "    }\n",
              "\n",
              "    .dataframe thead th {\n",
              "        text-align: right;\n",
              "    }\n",
              "</style>\n",
              "<table border=\"1\" class=\"dataframe\">\n",
              "  <thead>\n",
              "    <tr style=\"text-align: right;\">\n",
              "      <th></th>\n",
              "      <th>Transaction Amount</th>\n",
              "      <th>Quantity</th>\n",
              "      <th>Customer Age</th>\n",
              "      <th>Is Fraudulent</th>\n",
              "      <th>Account Age Days</th>\n",
              "      <th>Transaction Hour</th>\n",
              "      <th>Address Match</th>\n",
              "      <th>Day</th>\n",
              "      <th>Day of the week</th>\n",
              "      <th>Month</th>\n",
              "      <th>...</th>\n",
              "      <th>Payment Method_credit card</th>\n",
              "      <th>Payment Method_debit card</th>\n",
              "      <th>Product Category_clothing</th>\n",
              "      <th>Product Category_electronics</th>\n",
              "      <th>Product Category_health &amp; beauty</th>\n",
              "      <th>Product Category_home &amp; garden</th>\n",
              "      <th>Product Category_toys &amp; games</th>\n",
              "      <th>Device Used_desktop</th>\n",
              "      <th>Device Used_mobile</th>\n",
              "      <th>Device Used_tablet</th>\n",
              "    </tr>\n",
              "  </thead>\n",
              "  <tbody>\n",
              "    <tr>\n",
              "      <th>0</th>\n",
              "      <td>-0.834141</td>\n",
              "      <td>1</td>\n",
              "      <td>17</td>\n",
              "      <td>False</td>\n",
              "      <td>30</td>\n",
              "      <td>5</td>\n",
              "      <td>True</td>\n",
              "      <td>20</td>\n",
              "      <td>1</td>\n",
              "      <td>2</td>\n",
              "      <td>...</td>\n",
              "      <td>False</td>\n",
              "      <td>False</td>\n",
              "      <td>False</td>\n",
              "      <td>True</td>\n",
              "      <td>False</td>\n",
              "      <td>False</td>\n",
              "      <td>False</td>\n",
              "      <td>False</td>\n",
              "      <td>False</td>\n",
              "      <td>True</td>\n",
              "    </tr>\n",
              "    <tr>\n",
              "      <th>1</th>\n",
              "      <td>0.994897</td>\n",
              "      <td>2</td>\n",
              "      <td>40</td>\n",
              "      <td>False</td>\n",
              "      <td>72</td>\n",
              "      <td>8</td>\n",
              "      <td>True</td>\n",
              "      <td>25</td>\n",
              "      <td>6</td>\n",
              "      <td>2</td>\n",
              "      <td>...</td>\n",
              "      <td>False</td>\n",
              "      <td>True</td>\n",
              "      <td>False</td>\n",
              "      <td>True</td>\n",
              "      <td>False</td>\n",
              "      <td>False</td>\n",
              "      <td>False</td>\n",
              "      <td>True</td>\n",
              "      <td>False</td>\n",
              "      <td>False</td>\n",
              "    </tr>\n",
              "    <tr>\n",
              "      <th>2</th>\n",
              "      <td>-0.033023</td>\n",
              "      <td>2</td>\n",
              "      <td>22</td>\n",
              "      <td>False</td>\n",
              "      <td>63</td>\n",
              "      <td>3</td>\n",
              "      <td>True</td>\n",
              "      <td>18</td>\n",
              "      <td>0</td>\n",
              "      <td>3</td>\n",
              "      <td>...</td>\n",
              "      <td>False</td>\n",
              "      <td>False</td>\n",
              "      <td>False</td>\n",
              "      <td>False</td>\n",
              "      <td>False</td>\n",
              "      <td>True</td>\n",
              "      <td>False</td>\n",
              "      <td>False</td>\n",
              "      <td>False</td>\n",
              "      <td>True</td>\n",
              "    </tr>\n",
              "    <tr>\n",
              "      <th>3</th>\n",
              "      <td>0.469375</td>\n",
              "      <td>5</td>\n",
              "      <td>31</td>\n",
              "      <td>False</td>\n",
              "      <td>124</td>\n",
              "      <td>20</td>\n",
              "      <td>True</td>\n",
              "      <td>16</td>\n",
              "      <td>5</td>\n",
              "      <td>3</td>\n",
              "      <td>...</td>\n",
              "      <td>False</td>\n",
              "      <td>False</td>\n",
              "      <td>True</td>\n",
              "      <td>False</td>\n",
              "      <td>False</td>\n",
              "      <td>False</td>\n",
              "      <td>False</td>\n",
              "      <td>True</td>\n",
              "      <td>False</td>\n",
              "      <td>False</td>\n",
              "    </tr>\n",
              "    <tr>\n",
              "      <th>4</th>\n",
              "      <td>-0.128200</td>\n",
              "      <td>2</td>\n",
              "      <td>51</td>\n",
              "      <td>False</td>\n",
              "      <td>158</td>\n",
              "      <td>5</td>\n",
              "      <td>True</td>\n",
              "      <td>15</td>\n",
              "      <td>0</td>\n",
              "      <td>1</td>\n",
              "      <td>...</td>\n",
              "      <td>False</td>\n",
              "      <td>False</td>\n",
              "      <td>True</td>\n",
              "      <td>False</td>\n",
              "      <td>False</td>\n",
              "      <td>False</td>\n",
              "      <td>False</td>\n",
              "      <td>False</td>\n",
              "      <td>False</td>\n",
              "      <td>True</td>\n",
              "    </tr>\n",
              "  </tbody>\n",
              "</table>\n",
              "<p>5 rows × 22 columns</p>\n",
              "</div>\n",
              "    <div class=\"colab-df-buttons\">\n",
              "\n",
              "  <div class=\"colab-df-container\">\n",
              "    <button class=\"colab-df-convert\" onclick=\"convertToInteractive('df-6d55d639-ae78-4a04-ba59-38f67e5efa62')\"\n",
              "            title=\"Convert this dataframe to an interactive table.\"\n",
              "            style=\"display:none;\">\n",
              "\n",
              "  <svg xmlns=\"http://www.w3.org/2000/svg\" height=\"24px\" viewBox=\"0 -960 960 960\">\n",
              "    <path d=\"M120-120v-720h720v720H120Zm60-500h600v-160H180v160Zm220 220h160v-160H400v160Zm0 220h160v-160H400v160ZM180-400h160v-160H180v160Zm440 0h160v-160H620v160ZM180-180h160v-160H180v160Zm440 0h160v-160H620v160Z\"/>\n",
              "  </svg>\n",
              "    </button>\n",
              "\n",
              "  <style>\n",
              "    .colab-df-container {\n",
              "      display:flex;\n",
              "      gap: 12px;\n",
              "    }\n",
              "\n",
              "    .colab-df-convert {\n",
              "      background-color: #E8F0FE;\n",
              "      border: none;\n",
              "      border-radius: 50%;\n",
              "      cursor: pointer;\n",
              "      display: none;\n",
              "      fill: #1967D2;\n",
              "      height: 32px;\n",
              "      padding: 0 0 0 0;\n",
              "      width: 32px;\n",
              "    }\n",
              "\n",
              "    .colab-df-convert:hover {\n",
              "      background-color: #E2EBFA;\n",
              "      box-shadow: 0px 1px 2px rgba(60, 64, 67, 0.3), 0px 1px 3px 1px rgba(60, 64, 67, 0.15);\n",
              "      fill: #174EA6;\n",
              "    }\n",
              "\n",
              "    .colab-df-buttons div {\n",
              "      margin-bottom: 4px;\n",
              "    }\n",
              "\n",
              "    [theme=dark] .colab-df-convert {\n",
              "      background-color: #3B4455;\n",
              "      fill: #D2E3FC;\n",
              "    }\n",
              "\n",
              "    [theme=dark] .colab-df-convert:hover {\n",
              "      background-color: #434B5C;\n",
              "      box-shadow: 0px 1px 3px 1px rgba(0, 0, 0, 0.15);\n",
              "      filter: drop-shadow(0px 1px 2px rgba(0, 0, 0, 0.3));\n",
              "      fill: #FFFFFF;\n",
              "    }\n",
              "  </style>\n",
              "\n",
              "    <script>\n",
              "      const buttonEl =\n",
              "        document.querySelector('#df-6d55d639-ae78-4a04-ba59-38f67e5efa62 button.colab-df-convert');\n",
              "      buttonEl.style.display =\n",
              "        google.colab.kernel.accessAllowed ? 'block' : 'none';\n",
              "\n",
              "      async function convertToInteractive(key) {\n",
              "        const element = document.querySelector('#df-6d55d639-ae78-4a04-ba59-38f67e5efa62');\n",
              "        const dataTable =\n",
              "          await google.colab.kernel.invokeFunction('convertToInteractive',\n",
              "                                                    [key], {});\n",
              "        if (!dataTable) return;\n",
              "\n",
              "        const docLinkHtml = 'Like what you see? Visit the ' +\n",
              "          '<a target=\"_blank\" href=https://colab.research.google.com/notebooks/data_table.ipynb>data table notebook</a>'\n",
              "          + ' to learn more about interactive tables.';\n",
              "        element.innerHTML = '';\n",
              "        dataTable['output_type'] = 'display_data';\n",
              "        await google.colab.output.renderOutput(dataTable, element);\n",
              "        const docLink = document.createElement('div');\n",
              "        docLink.innerHTML = docLinkHtml;\n",
              "        element.appendChild(docLink);\n",
              "      }\n",
              "    </script>\n",
              "  </div>\n",
              "\n",
              "\n",
              "    <div id=\"df-60c7c405-5ec3-45b3-b84d-f3354079d420\">\n",
              "      <button class=\"colab-df-quickchart\" onclick=\"quickchart('df-60c7c405-5ec3-45b3-b84d-f3354079d420')\"\n",
              "                title=\"Suggest charts\"\n",
              "                style=\"display:none;\">\n",
              "\n",
              "<svg xmlns=\"http://www.w3.org/2000/svg\" height=\"24px\"viewBox=\"0 0 24 24\"\n",
              "     width=\"24px\">\n",
              "    <g>\n",
              "        <path d=\"M19 3H5c-1.1 0-2 .9-2 2v14c0 1.1.9 2 2 2h14c1.1 0 2-.9 2-2V5c0-1.1-.9-2-2-2zM9 17H7v-7h2v7zm4 0h-2V7h2v10zm4 0h-2v-4h2v4z\"/>\n",
              "    </g>\n",
              "</svg>\n",
              "      </button>\n",
              "\n",
              "<style>\n",
              "  .colab-df-quickchart {\n",
              "      --bg-color: #E8F0FE;\n",
              "      --fill-color: #1967D2;\n",
              "      --hover-bg-color: #E2EBFA;\n",
              "      --hover-fill-color: #174EA6;\n",
              "      --disabled-fill-color: #AAA;\n",
              "      --disabled-bg-color: #DDD;\n",
              "  }\n",
              "\n",
              "  [theme=dark] .colab-df-quickchart {\n",
              "      --bg-color: #3B4455;\n",
              "      --fill-color: #D2E3FC;\n",
              "      --hover-bg-color: #434B5C;\n",
              "      --hover-fill-color: #FFFFFF;\n",
              "      --disabled-bg-color: #3B4455;\n",
              "      --disabled-fill-color: #666;\n",
              "  }\n",
              "\n",
              "  .colab-df-quickchart {\n",
              "    background-color: var(--bg-color);\n",
              "    border: none;\n",
              "    border-radius: 50%;\n",
              "    cursor: pointer;\n",
              "    display: none;\n",
              "    fill: var(--fill-color);\n",
              "    height: 32px;\n",
              "    padding: 0;\n",
              "    width: 32px;\n",
              "  }\n",
              "\n",
              "  .colab-df-quickchart:hover {\n",
              "    background-color: var(--hover-bg-color);\n",
              "    box-shadow: 0 1px 2px rgba(60, 64, 67, 0.3), 0 1px 3px 1px rgba(60, 64, 67, 0.15);\n",
              "    fill: var(--button-hover-fill-color);\n",
              "  }\n",
              "\n",
              "  .colab-df-quickchart-complete:disabled,\n",
              "  .colab-df-quickchart-complete:disabled:hover {\n",
              "    background-color: var(--disabled-bg-color);\n",
              "    fill: var(--disabled-fill-color);\n",
              "    box-shadow: none;\n",
              "  }\n",
              "\n",
              "  .colab-df-spinner {\n",
              "    border: 2px solid var(--fill-color);\n",
              "    border-color: transparent;\n",
              "    border-bottom-color: var(--fill-color);\n",
              "    animation:\n",
              "      spin 1s steps(1) infinite;\n",
              "  }\n",
              "\n",
              "  @keyframes spin {\n",
              "    0% {\n",
              "      border-color: transparent;\n",
              "      border-bottom-color: var(--fill-color);\n",
              "      border-left-color: var(--fill-color);\n",
              "    }\n",
              "    20% {\n",
              "      border-color: transparent;\n",
              "      border-left-color: var(--fill-color);\n",
              "      border-top-color: var(--fill-color);\n",
              "    }\n",
              "    30% {\n",
              "      border-color: transparent;\n",
              "      border-left-color: var(--fill-color);\n",
              "      border-top-color: var(--fill-color);\n",
              "      border-right-color: var(--fill-color);\n",
              "    }\n",
              "    40% {\n",
              "      border-color: transparent;\n",
              "      border-right-color: var(--fill-color);\n",
              "      border-top-color: var(--fill-color);\n",
              "    }\n",
              "    60% {\n",
              "      border-color: transparent;\n",
              "      border-right-color: var(--fill-color);\n",
              "    }\n",
              "    80% {\n",
              "      border-color: transparent;\n",
              "      border-right-color: var(--fill-color);\n",
              "      border-bottom-color: var(--fill-color);\n",
              "    }\n",
              "    90% {\n",
              "      border-color: transparent;\n",
              "      border-bottom-color: var(--fill-color);\n",
              "    }\n",
              "  }\n",
              "</style>\n",
              "\n",
              "      <script>\n",
              "        async function quickchart(key) {\n",
              "          const quickchartButtonEl =\n",
              "            document.querySelector('#' + key + ' button');\n",
              "          quickchartButtonEl.disabled = true;  // To prevent multiple clicks.\n",
              "          quickchartButtonEl.classList.add('colab-df-spinner');\n",
              "          try {\n",
              "            const charts = await google.colab.kernel.invokeFunction(\n",
              "                'suggestCharts', [key], {});\n",
              "          } catch (error) {\n",
              "            console.error('Error during call to suggestCharts:', error);\n",
              "          }\n",
              "          quickchartButtonEl.classList.remove('colab-df-spinner');\n",
              "          quickchartButtonEl.classList.add('colab-df-quickchart-complete');\n",
              "        }\n",
              "        (() => {\n",
              "          let quickchartButtonEl =\n",
              "            document.querySelector('#df-60c7c405-5ec3-45b3-b84d-f3354079d420 button');\n",
              "          quickchartButtonEl.style.display =\n",
              "            google.colab.kernel.accessAllowed ? 'block' : 'none';\n",
              "        })();\n",
              "      </script>\n",
              "    </div>\n",
              "\n",
              "    </div>\n",
              "  </div>\n"
            ],
            "application/vnd.google.colaboratory.intrinsic+json": {
              "type": "dataframe",
              "variable_name": "df_ohe"
            }
          },
          "metadata": {},
          "execution_count": 30
        }
      ]
    }
  ]
}